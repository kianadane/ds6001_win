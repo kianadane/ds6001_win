{
 "cells": [
  {
   "cell_type": "markdown",
   "metadata": {},
   "source": [
    "# Lab Assignment 11: Data Visualizations\n",
    "## DS 6001: Practice and Application of Data Science\n",
    "\n",
    "### Instructions\n",
    "Please answer the following questions as completely as possible using text, code, and the results of code as needed. Format your answers in a Jupyter notebook. To receive full credit, make sure you address every part of the problem, and make sure your document is formatted in a clean and professional way."
   ]
  },
  {
   "cell_type": "markdown",
   "metadata": {},
   "source": [
    "## Problem 0\n",
    "Import the following libraries:"
   ]
  },
  {
   "cell_type": "code",
   "execution_count": 1,
   "metadata": {},
   "outputs": [],
   "source": [
    "import numpy as np\n",
    "import pandas as pd\n",
    "from matplotlib import pyplot as plt\n",
    "import seaborn as sns"
   ]
  },
  {
   "cell_type": "markdown",
   "metadata": {},
   "source": [
    "## Problem 1\n",
    "Write a short paragraph that provides a critique of the following data visualizations. What's good about each figure, and what's not good? Pay particular attention to how well the figure communicates information to a general audience and tells a complete story. Make specific references to the ideas discussed in the first section of the Module 11 Jupyter notebook."
   ]
  },
  {
   "cell_type": "markdown",
   "metadata": {},
   "source": [
    "### Part a\n",
    "<img src=\"https://i.reddituploads.com/09d4079fd0bf453586b8524478aac4fd?fit=max&h=1536&w=1536&s=0d63d22eed3d44a41002007990acdf2c\" width='500'>\n",
    "\n",
    "[1 point]"
   ]
  },
  {
   "cell_type": "markdown",
   "metadata": {},
   "source": [
    "### Part b\n",
    "<img src=\"https://www.designyourway.net/diverse/2/wronginfo/59426786926.jpg\" width='600'>\n",
    "\n",
    "[1 point]"
   ]
  },
  {
   "cell_type": "markdown",
   "metadata": {},
   "source": [
    "### Part c\n",
    "<img src=\"https://i.imgur.com/sTVYOIH.jpg\" width='400'>\n",
    "\n",
    "[1 point]"
   ]
  },
  {
   "cell_type": "markdown",
   "metadata": {},
   "source": [
    "## Problem 2\n",
    "For the rest of this lab, we will once again be working with the 2019 General Social Survey."
   ]
  },
  {
   "cell_type": "code",
   "execution_count": 2,
   "metadata": {},
   "outputs": [],
   "source": [
    "%%capture\n",
    "gss = pd.read_csv(\"https://github.com/jkropko/DS-6001/raw/master/localdata/gss2018.csv\",\n",
    "                 encoding='cp1252', na_values=['IAP','IAP,DK,NA,uncodeable', 'NOT SURE',\n",
    "                                               'DK', 'IAP, DK, NA, uncodeable', '.a', \"CAN'T CHOOSE\"])"
   ]
  },
  {
   "cell_type": "markdown",
   "metadata": {},
   "source": [
    "Here is code that cleans the data and gets it ready to be used for data visualizations:"
   ]
  },
  {
   "cell_type": "code",
   "execution_count": 3,
   "metadata": {},
   "outputs": [],
   "source": [
    "mycols = ['id', 'wtss', 'sex', 'educ', 'region', 'age', 'coninc',\n",
    "          'prestg10', 'mapres10', 'papres10', 'sei10', 'satjob',\n",
    "          'fechld', 'fefam', 'fepol', 'fepresch', 'meovrwrk'] \n",
    "gss_clean = gss[mycols]\n",
    "gss_clean = gss_clean.rename({'wtss':'weight', \n",
    "                              'educ':'education', \n",
    "                              'coninc':'income', \n",
    "                              'prestg10':'job_prestige',\n",
    "                              'mapres10':'mother_job_prestige', \n",
    "                              'papres10':'father_job_prestige', \n",
    "                              'sei10':'socioeconomic_index', \n",
    "                              'fechld':'relationship', \n",
    "                              'fefam':'male_breadwinner', \n",
    "                              'fehire':'hire_women', \n",
    "                              'fejobaff':'preference_hire_women', \n",
    "                              'fepol':'men_bettersuited', \n",
    "                              'fepresch':'child_suffer',\n",
    "                              'meovrwrk':'men_overwork'},axis=1)\n",
    "gss_clean.age = gss_clean.age.replace({'89 or older':'89'})\n",
    "gss_clean.age = gss_clean.age.astype('float')"
   ]
  },
  {
   "cell_type": "markdown",
   "metadata": {},
   "source": [
    "The `gss_clean` dataframe now contains the following features:\n",
    "\n",
    "* `id` - a numeric unique ID for each person who responded to the survey\n",
    "* `weight` - survey sample weights\n",
    "* `sex` - male or female\n",
    "* `education` - years of formal education\n",
    "* `region` - region of the country where the respondent lives\n",
    "* `age` - age\n",
    "* `income` - the respondent's personal annual income\n",
    "* `job_prestige` - the respondent's occupational prestige score, as measured by the GSS using the methodology described above\n",
    "* `mother_job_prestige` - the respondent's mother's occupational prestige score, as measured by the GSS using the methodology described above\n",
    "* `father_job_prestige` -the respondent's father's occupational prestige score, as measured by the GSS using the methodology described above\n",
    "* `socioeconomic_index` - an index measuring the respondent's socioeconomic status\n",
    "* `satjob` - responses to \"On the whole, how satisfied are you with the work you do?\"\n",
    "* `relationship` - agree or disagree with: \"A working mother can establish just as warm and secure a relationship with her children as a mother who does not work.\"\n",
    "* `male_breadwinner` - agree or disagree with: \"It is much better for everyone involved if the man is the achiever outside the home and the woman takes care of the home and family.\"\n",
    "* `men_bettersuited` - agree or disagree with: \"Most men are better suited emotionally for politics than are most women.\"\n",
    "* `child_suffer` - agree or disagree with: \"A preschool child is likely to suffer if his or her mother works.\"\n",
    "* `men_overwork` - agree or disagree with: \"Family life often suffers because men concentrate too much on their work.\""
   ]
  },
  {
   "cell_type": "markdown",
   "metadata": {},
   "source": [
    "### Part a\n",
    "Reorder the categories of `relationship` to \"strongly agree\", \"agree\", \"disagree\", and \"strongly disagree\".\n",
    "\n",
    "Then create a simple barplot that shows the frequencies of the categories of `relationship` three times: \n",
    "* once using `matplotlib` alone, \n",
    "* once using `seaborn`, \n",
    "* and once using the `.plot()` method from `pandas`. \n",
    "\n",
    "Make sure each barplot has descriptive axis labels and a title, and set a good size for each figure displayed in the Jupyter notebook. [2 points]"
   ]
  },
  {
   "cell_type": "markdown",
   "metadata": {},
   "source": [
    "### Part b\n",
    "Create two barplots that show \n",
    "* the frequency of the different levels of agreement for `relationship` for men and for women on the same plot, \n",
    "* with bars for men and bars for women side-by-side,\n",
    "* using different colors for the bars for men and the bars for women,\n",
    "* listing these colors and the sex they refer to in a legend,\n",
    "* and labeling each bar with the number the bar represents.\n",
    "\n",
    "Create the first barplot using `seaborn` with the bars oriented vertically, and create the second barplot using the `.plot()` method with the bars oriented horizontally. [2 points]"
   ]
  },
  {
   "cell_type": "markdown",
   "metadata": {},
   "source": [
    "### Part c\n",
    "Create a visualization with \n",
    "* nine barplots, arranged in a 3x3 grid. \n",
    "* The barplots should refer to each of the nine categories of `region`, \n",
    "* and each barplot should be given a label that contains the name of the region.\n",
    "* Within each barplot, list the categories of `relationship`,\n",
    "* and display horizontal bars.\n",
    "\n",
    "Only one figure is required. Use `seaborn`, `matplotlib`, and `.plot()` as you see fit. [2 points]"
   ]
  },
  {
   "cell_type": "markdown",
   "metadata": {},
   "source": [
    "## Problem 3\n",
    "Write code that exactly replicates the following figures, including all aesthetic choices. **Don't worry, however, about making the size of the figures exactly the same as that varies from browser to browser.** All of the following figures are generated by a primary graphing function from `seaborn`. "
   ]
  },
  {
   "cell_type": "markdown",
   "metadata": {},
   "source": [
    "### Part a\n",
    "Replicate the following figure:\n",
    "<img src=\"https://raw.githubusercontent.com/jkropko/DS-6001/master/localimages/parta.png\" width='700'>\n",
    "\n",
    "[Hint: the values of occuptational prestige and socioeconomic status are the means of `job_prestige` and `socioeconomic_index` within years of `education`. Note that values of `education` less than 8 are excluded.] [2 points]"
   ]
  },
  {
   "cell_type": "markdown",
   "metadata": {},
   "source": [
    "### Part b\n",
    "Replicate the following figure:\n",
    "<img src=\"https://raw.githubusercontent.com/jkropko/DS-6001/master/localimages/partb.png\" width='700'>\n",
    "\n",
    "[Hint: to match the color scheme, you will need to set `center=0`.] [2 points]"
   ]
  },
  {
   "cell_type": "markdown",
   "metadata": {},
   "source": [
    "### Part c\n",
    "Replicate the following figure:\n",
    "<img src=\"https://raw.githubusercontent.com/jkropko/DS-6001/master/localdata/partc2.png\" width='600'>\n",
    "\n",
    "[Hint: The individual plots inside the grid have `height=4` and `aspect=1`, and to include the overall title I used\n",
    "```\n",
    "g.fig.subplots_adjust(top=.95)\n",
    "g.fig.suptitle('Income vs. Prestige by Education', fontsize=16)\n",
    "```\n",
    "You will first need to create a version of `education` that collapses values from 0 to 10 to \"10 years or fewer\" and collapses values from 17 to 20 to \"More than 16 years\". You can use `.map()`, `.replace()`, or `pd.cut()` to do that.] [3 points]"
   ]
  },
  {
   "cell_type": "markdown",
   "metadata": {},
   "source": [
    "## Problem 4\n",
    "There is a consistent finding that in the United States that [women get paid only 80% of what men get paid](https://nwlc.org/issue/equal-pay-and-the-wage-gap/). Other research however finds that the gap is much smaller when comparing [men and women who hold the same job](https://www.politifact.com/factchecks/2018/apr/13/tina-smith/do-women-get-only-80-percent-pay-men-do-same-job/). In this problem you will use the GSS data to investigate the following questions:\n",
    "\n",
    "1. Do men have higher incomes than women?\n",
    "\n",
    "2. If there is a difference, is this difference due to the fact that men have jobs with higher occupational prestige than women?\n",
    "\n",
    "You may use any kind of data visualization and you may use multiple visualizations to find an answer to these questions. In order to receive credit for this problem, you must write in text what parts of your visualizations are important and what we should learn from the visualizations to answer the questions. Please consider the entire distributions of income and occupational prestige, not just the means or medians. [4 points]"
   ]
  }
 ],
 "metadata": {
  "kernelspec": {
   "display_name": "Python 3",
   "language": "python",
   "name": "python3"
  },
  "language_info": {
   "codemirror_mode": {
    "name": "ipython",
    "version": 3
   },
   "file_extension": ".py",
   "mimetype": "text/x-python",
   "name": "python",
   "nbconvert_exporter": "python",
   "pygments_lexer": "ipython3",
   "version": "3.7.6"
  }
 },
 "nbformat": 4,
 "nbformat_minor": 4
}
