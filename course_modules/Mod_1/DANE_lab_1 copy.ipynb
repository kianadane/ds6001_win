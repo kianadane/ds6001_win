{
 "cells": [
  {
   "cell_type": "markdown",
   "id": "88ca7a13",
   "metadata": {},
   "source": [
    "# Kiana Dane \n",
    "# Lab 1 Notebook - 06/22/24 \n",
    "\n",
    "## DS 6001 Kropko \n",
    "\n",
    " \n"
   ]
  },
  {
   "cell_type": "markdown",
   "id": "4f67d6cf-70c8-439e-a16c-388d49d14856",
   "metadata": {},
   "source": [
    "# Problem 0 #"
   ]
  },
  {
   "cell_type": "code",
   "execution_count": 63,
   "id": "a9e3f5d3-c7be-4eb6-9d23-773050135a33",
   "metadata": {},
   "outputs": [],
   "source": [
    "import numpy as np\n",
    "import pandas as pd\n",
    "import os\n",
    "import math"
   ]
  },
  {
   "cell_type": "markdown",
   "id": "62a5854d-b972-4bc8-975e-6698cd5f3467",
   "metadata": {},
   "source": [
    "# Problem 1 #"
   ]
  },
  {
   "cell_type": "code",
   "execution_count": 64,
   "id": "b6256867-0467-4f38-83bc-4198975b3f18",
   "metadata": {},
   "outputs": [],
   "source": [
    "## I would argue that ten or eleven different solutions were proposed, \n",
    "## depending on whether we count certain identical first steps from different solutions\n",
    "### as the same solution or not."
   ]
  },
  {
   "cell_type": "code",
   "execution_count": 65,
   "id": "69f3010a-9f3b-428e-8013-319fa661ffb6",
   "metadata": {},
   "outputs": [],
   "source": [
    "## An issue with developing a habit of using stack overflow is that there are\n",
    "## so often many ways to approach and solve a problem, some of which may\n",
    "## be better than others - and we need to know how to think critically\n",
    "## about the problem rather than apply a one-sized solution."
   ]
  },
  {
   "cell_type": "markdown",
   "id": "76021d60-6a14-454c-8bcc-95fed2dbaf11",
   "metadata": {},
   "source": [
    "# Problem 2 #"
   ]
  },
  {
   "cell_type": "code",
   "execution_count": 66,
   "id": "a6cd3c40-692f-4f6d-8775-34dfe56ba320",
   "metadata": {},
   "outputs": [
    {
     "data": {
      "text/plain": [
       "'log(x, /, out=None, *, where=True, casting=\\'same_kind\\', order=\\'K\\', dtype=None, subok=True[, signature])\\n\\nNatural logarithm, element-wise.\\n\\nThe natural logarithm `log` is the inverse of the exponential function,\\nso that `log(exp(x)) = x`. The natural logarithm is logarithm in base\\n`e`.\\n\\nParameters\\n----------\\nx : array_like\\n    Input value.\\nout : ndarray, None, or tuple of ndarray and None, optional\\n    A location into which the result is stored. If provided, it must have\\n    a shape that the inputs broadcast to. If not provided or None,\\n    a freshly-allocated array is returned. A tuple (possible only as a\\n    keyword argument) must have length equal to the number of outputs.\\nwhere : array_like, optional\\n    This condition is broadcast over the input. At locations where the\\n    condition is True, the `out` array will be set to the ufunc result.\\n    Elsewhere, the `out` array will retain its original value.\\n    Note that if an uninitialized `out` array is created via the default\\n    ``out=None``, locations within it where the condition is False will\\n    remain uninitialized.\\n**kwargs\\n    For other keyword-only arguments, see the\\n    :ref:`ufunc docs <ufuncs.kwargs>`.\\n\\nReturns\\n-------\\ny : ndarray\\n    The natural logarithm of `x`, element-wise.\\n    This is a scalar if `x` is a scalar.\\n\\nSee Also\\n--------\\nlog10, log2, log1p, emath.log\\n\\nNotes\\n-----\\nLogarithm is a multivalued function: for each `x` there is an infinite\\nnumber of `z` such that `exp(z) = x`. The convention is to return the\\n`z` whose imaginary part lies in `(-pi, pi]`.\\n\\nFor real-valued input data types, `log` always returns real output. For\\neach value that cannot be expressed as a real number or infinity, it\\nyields ``nan`` and sets the `invalid` floating point error flag.\\n\\nFor complex-valued input, `log` is a complex analytical function that\\nhas a branch cut `[-inf, 0]` and is continuous from above on it. `log`\\nhandles the floating-point negative zero as an infinitesimal negative\\nnumber, conforming to the C99 standard.\\n\\nIn the cases where the input has a negative real part and a very small\\nnegative complex part (approaching 0), the result is so close to `-pi`\\nthat it evaluates to exactly `-pi`.\\n\\nReferences\\n----------\\n.. [1] M. Abramowitz and I.A. Stegun, \"Handbook of Mathematical Functions\",\\n       10th printing, 1964, pp. 67.\\n       https://personal.math.ubc.ca/~cbm/aands/page_67.htm\\n.. [2] Wikipedia, \"Logarithm\". https://en.wikipedia.org/wiki/Logarithm\\n\\nExamples\\n--------\\n>>> np.log([1, np.e, np.e**2, 0])\\narray([  0.,   1.,   2., -inf])'"
      ]
     },
     "execution_count": 66,
     "metadata": {},
     "output_type": "execute_result"
    }
   ],
   "source": [
    "np.log.__doc__"
   ]
  },
  {
   "cell_type": "code",
   "execution_count": 67,
   "id": "d52e762d-0e31-43f4-a332-92d174385018",
   "metadata": {},
   "outputs": [
    {
     "data": {
      "text/plain": [
       "'log(x, [base=math.e])\\nReturn the logarithm of x to the given base.\\n\\nIf the base is not specified, returns the natural logarithm (base e) of x.'"
      ]
     },
     "execution_count": 67,
     "metadata": {},
     "output_type": "execute_result"
    }
   ],
   "source": [
    "math.log.__doc__"
   ]
  },
  {
   "cell_type": "code",
   "execution_count": 68,
   "id": "c11bb06d-86c6-45e8-afc7-54ee7ed57273",
   "metadata": {},
   "outputs": [
    {
     "data": {
      "text/plain": [
       "1.7712437491614221"
      ]
     },
     "execution_count": 68,
     "metadata": {},
     "output_type": "execute_result"
    }
   ],
   "source": [
    "tar = 7\n",
    "bse = 3\n",
    "ans = math.log(tar,bse)\n",
    "ans"
   ]
  },
  {
   "cell_type": "code",
   "execution_count": 69,
   "id": "f374ecd2-9029-4209-bad1-6d5df9a5750f",
   "metadata": {},
   "outputs": [
    {
     "data": {
      "text/plain": [
       "'2.0.0'"
      ]
     },
     "execution_count": 69,
     "metadata": {},
     "output_type": "execute_result"
    }
   ],
   "source": [
    "np.version.version"
   ]
  },
  {
   "cell_type": "markdown",
   "id": "fe65f952-c449-4b1b-a7e4-5ab949a6e883",
   "metadata": {},
   "source": [
    "# Problem 3 #"
   ]
  },
  {
   "cell_type": "markdown",
   "id": "f7c95f8b-eb20-4135-b806-397b2dcd4137",
   "metadata": {},
   "source": [
    "#### screenshot of Dane's screen showing docstring for DataFrame function in pandas"
   ]
  },
  {
   "cell_type": "markdown",
   "id": "82105c41",
   "metadata": {},
   "source": [
    "<img src= \"ds6001_sg.jpg\" width = 600>"
   ]
  },
  {
   "cell_type": "markdown",
   "id": "b738f153-ae42-4d2f-b26a-5a77c2d5649d",
   "metadata": {},
   "source": [
    "# Problem 4 #"
   ]
  },
  {
   "cell_type": "markdown",
   "id": "81dd2684",
   "metadata": {},
   "source": [
    "In this question, OP states they \"have been asked to write a script\" and asks for advice on which modules to use to achieve their goal. Most comments offered the Python subprocess module to call git, which OP eventually marked as the answer. Our commenter, however, had to \"whip out [their] dick and knowledge drop\" how to achieve a solution using a shell script. Commenter writes: \"If you're on Linux or Mac, why use python at all for this task? Write a shell script.\" ** **GROAN** **\n"
   ]
  },
  {
   "cell_type": "markdown",
   "id": "ab8b377e",
   "metadata": {},
   "source": [
    "https://stackoverflow.com/a/11114295"
   ]
  },
  {
   "cell_type": "markdown",
   "id": "eb0da219",
   "metadata": {},
   "source": [
    "# Problem 5 #"
   ]
  },
  {
   "cell_type": "markdown",
   "id": "de92ac4a",
   "metadata": {},
   "source": [
    "https://stackoverflow.com/questions/49579846/how-to-combine-numbers\n",
    "\n",
    "It is clear that this question asker did not put in much, if any effort to find the answer to their problem before posting the thread on Stack Overflow. This is a pretty easy way to annoy the community at large and get nasty responses. The lack of clarity in the question asker's communication of the objective to (we think) concatenate numbers, from the title to the example, probably annoyed those \"neckbeards\" and ultimately made them downvote the asker's question. "
   ]
  },
  {
   "cell_type": "markdown",
   "id": "9b430085",
   "metadata": {},
   "source": [
    "# Problem 6 #"
   ]
  },
  {
   "cell_type": "code",
   "execution_count": 70,
   "id": "dd9d2c42",
   "metadata": {},
   "outputs": [
    {
     "name": "stdout",
     "output_type": "stream",
     "text": [
      "Beyonce's an original Avenger!\n"
     ]
    }
   ],
   "source": [
    "def is_avenger(name):\n",
    "    if name == \"Hulk\" or \"Captain America\" or \"Iron Man\" or \"Black Widow\" or \"Hawkeye\" or \"Thor\":\n",
    "        print(name + \"'s an original Avenger!\")\n",
    "    else:\n",
    "        print(name + \" is NOT an original Avenger.\")\n",
    "        \n",
    "is_avenger(\"Beyonce\")"
   ]
  },
  {
   "cell_type": "markdown",
   "id": "2a2a7e92",
   "metadata": {},
   "source": [
    "# Problem 6 Part a #"
   ]
  },
  {
   "cell_type": "markdown",
   "id": "f92fe668-4fe9-4c93-b1a3-cea0a3922380",
   "metadata": {},
   "source": [
    "### - Link to Stack Overflow: https://stackoverflow.com/questions/48465536/using-or-in-if-statement-python ###\n",
    "### - The search terms I used to find the article were \"use or and if together python.\" ###"
   ]
  },
  {
   "cell_type": "code",
   "execution_count": 71,
   "id": "972c7591",
   "metadata": {},
   "outputs": [
    {
     "name": "stdout",
     "output_type": "stream",
     "text": [
      "Beyonce is NOT an original Avenger.\n"
     ]
    }
   ],
   "source": [
    "def is_avenger(name):\n",
    "    if name == \"Hulk\" or name == \"Captain America\" or name == \"Iron Man\" or name == \"Black Widow\" or name == \"Hawkeye\" or name == \"Thor\":\n",
    "        print(name + \"'s an original Avenger!\")\n",
    "    else:\n",
    "        print(name + \" is NOT an original Avenger.\")\n",
    "        \n",
    "is_avenger(\"Beyonce\")"
   ]
  },
  {
   "cell_type": "markdown",
   "id": "876a4e43",
   "metadata": {},
   "source": [
    "# Problem 6 Part b #"
   ]
  },
  {
   "cell_type": "markdown",
   "id": "7ce923cb",
   "metadata": {},
   "source": [
    "My Stack Overflow question title for this question would be:\n",
    "\n",
    "### *\"How do I use \"or\" in an if statement to check if a value is in a list?\"* ###"
   ]
  },
  {
   "cell_type": "markdown",
   "id": "8765116b",
   "metadata": {},
   "source": [
    "# Problem 6 Part c #"
   ]
  },
  {
   "cell_type": "code",
   "execution_count": 72,
   "id": "005f400c",
   "metadata": {},
   "outputs": [],
   "source": [
    "def is_primary(color):\n",
    "    if color  == \"Red\" or \"Blue\" or \"Yellow\":\n",
    "        print(color + \"'s a primary color!\")\n",
    "    else:\n",
    "        print(\"color + is NOT a primary color.\")"
   ]
  },
  {
   "cell_type": "markdown",
   "id": "b298c60f",
   "metadata": {},
   "source": [
    "# Problem 7 #"
   ]
  },
  {
   "cell_type": "code",
   "execution_count": 73,
   "id": "72ddde4e",
   "metadata": {},
   "outputs": [
    {
     "data": {
      "text/html": [
       "<div>\n",
       "<style scoped>\n",
       "    .dataframe tbody tr th:only-of-type {\n",
       "        vertical-align: middle;\n",
       "    }\n",
       "\n",
       "    .dataframe tbody tr th {\n",
       "        vertical-align: top;\n",
       "    }\n",
       "\n",
       "    .dataframe thead th {\n",
       "        text-align: right;\n",
       "    }\n",
       "</style>\n",
       "<table border=\"1\" class=\"dataframe\">\n",
       "  <thead>\n",
       "    <tr style=\"text-align: right;\">\n",
       "      <th></th>\n",
       "      <th>work_year</th>\n",
       "      <th>job_title</th>\n",
       "      <th>job_category</th>\n",
       "      <th>salary_currency</th>\n",
       "      <th>salary</th>\n",
       "      <th>salary_in_usd</th>\n",
       "      <th>employee_residence</th>\n",
       "      <th>experience_level</th>\n",
       "      <th>employment_type</th>\n",
       "      <th>work_setting</th>\n",
       "      <th>company_location</th>\n",
       "      <th>company_size</th>\n",
       "    </tr>\n",
       "  </thead>\n",
       "  <tbody>\n",
       "    <tr>\n",
       "      <th>0</th>\n",
       "      <td>2023</td>\n",
       "      <td>Data DevOps Engineer</td>\n",
       "      <td>Data Engineering</td>\n",
       "      <td>EUR</td>\n",
       "      <td>88000</td>\n",
       "      <td>95012</td>\n",
       "      <td>Germany</td>\n",
       "      <td>Mid-level</td>\n",
       "      <td>Full-time</td>\n",
       "      <td>Hybrid</td>\n",
       "      <td>Germany</td>\n",
       "      <td>L</td>\n",
       "    </tr>\n",
       "    <tr>\n",
       "      <th>1</th>\n",
       "      <td>2023</td>\n",
       "      <td>Data Architect</td>\n",
       "      <td>Data Architecture and Modeling</td>\n",
       "      <td>USD</td>\n",
       "      <td>186000</td>\n",
       "      <td>186000</td>\n",
       "      <td>United States</td>\n",
       "      <td>Senior</td>\n",
       "      <td>Full-time</td>\n",
       "      <td>In-person</td>\n",
       "      <td>United States</td>\n",
       "      <td>M</td>\n",
       "    </tr>\n",
       "    <tr>\n",
       "      <th>2</th>\n",
       "      <td>2023</td>\n",
       "      <td>Data Architect</td>\n",
       "      <td>Data Architecture and Modeling</td>\n",
       "      <td>USD</td>\n",
       "      <td>81800</td>\n",
       "      <td>81800</td>\n",
       "      <td>United States</td>\n",
       "      <td>Senior</td>\n",
       "      <td>Full-time</td>\n",
       "      <td>In-person</td>\n",
       "      <td>United States</td>\n",
       "      <td>M</td>\n",
       "    </tr>\n",
       "    <tr>\n",
       "      <th>3</th>\n",
       "      <td>2023</td>\n",
       "      <td>Data Scientist</td>\n",
       "      <td>Data Science and Research</td>\n",
       "      <td>USD</td>\n",
       "      <td>212000</td>\n",
       "      <td>212000</td>\n",
       "      <td>United States</td>\n",
       "      <td>Senior</td>\n",
       "      <td>Full-time</td>\n",
       "      <td>In-person</td>\n",
       "      <td>United States</td>\n",
       "      <td>M</td>\n",
       "    </tr>\n",
       "    <tr>\n",
       "      <th>4</th>\n",
       "      <td>2023</td>\n",
       "      <td>Data Scientist</td>\n",
       "      <td>Data Science and Research</td>\n",
       "      <td>USD</td>\n",
       "      <td>93300</td>\n",
       "      <td>93300</td>\n",
       "      <td>United States</td>\n",
       "      <td>Senior</td>\n",
       "      <td>Full-time</td>\n",
       "      <td>In-person</td>\n",
       "      <td>United States</td>\n",
       "      <td>M</td>\n",
       "    </tr>\n",
       "    <tr>\n",
       "      <th>...</th>\n",
       "      <td>...</td>\n",
       "      <td>...</td>\n",
       "      <td>...</td>\n",
       "      <td>...</td>\n",
       "      <td>...</td>\n",
       "      <td>...</td>\n",
       "      <td>...</td>\n",
       "      <td>...</td>\n",
       "      <td>...</td>\n",
       "      <td>...</td>\n",
       "      <td>...</td>\n",
       "      <td>...</td>\n",
       "    </tr>\n",
       "    <tr>\n",
       "      <th>9350</th>\n",
       "      <td>2021</td>\n",
       "      <td>Data Specialist</td>\n",
       "      <td>Data Management and Strategy</td>\n",
       "      <td>USD</td>\n",
       "      <td>165000</td>\n",
       "      <td>165000</td>\n",
       "      <td>United States</td>\n",
       "      <td>Senior</td>\n",
       "      <td>Full-time</td>\n",
       "      <td>Remote</td>\n",
       "      <td>United States</td>\n",
       "      <td>L</td>\n",
       "    </tr>\n",
       "    <tr>\n",
       "      <th>9351</th>\n",
       "      <td>2020</td>\n",
       "      <td>Data Scientist</td>\n",
       "      <td>Data Science and Research</td>\n",
       "      <td>USD</td>\n",
       "      <td>412000</td>\n",
       "      <td>412000</td>\n",
       "      <td>United States</td>\n",
       "      <td>Senior</td>\n",
       "      <td>Full-time</td>\n",
       "      <td>Remote</td>\n",
       "      <td>United States</td>\n",
       "      <td>L</td>\n",
       "    </tr>\n",
       "    <tr>\n",
       "      <th>9352</th>\n",
       "      <td>2021</td>\n",
       "      <td>Principal Data Scientist</td>\n",
       "      <td>Data Science and Research</td>\n",
       "      <td>USD</td>\n",
       "      <td>151000</td>\n",
       "      <td>151000</td>\n",
       "      <td>United States</td>\n",
       "      <td>Mid-level</td>\n",
       "      <td>Full-time</td>\n",
       "      <td>Remote</td>\n",
       "      <td>United States</td>\n",
       "      <td>L</td>\n",
       "    </tr>\n",
       "    <tr>\n",
       "      <th>9353</th>\n",
       "      <td>2020</td>\n",
       "      <td>Data Scientist</td>\n",
       "      <td>Data Science and Research</td>\n",
       "      <td>USD</td>\n",
       "      <td>105000</td>\n",
       "      <td>105000</td>\n",
       "      <td>United States</td>\n",
       "      <td>Entry-level</td>\n",
       "      <td>Full-time</td>\n",
       "      <td>Remote</td>\n",
       "      <td>United States</td>\n",
       "      <td>S</td>\n",
       "    </tr>\n",
       "    <tr>\n",
       "      <th>9354</th>\n",
       "      <td>2020</td>\n",
       "      <td>Business Data Analyst</td>\n",
       "      <td>Data Analysis</td>\n",
       "      <td>USD</td>\n",
       "      <td>100000</td>\n",
       "      <td>100000</td>\n",
       "      <td>United States</td>\n",
       "      <td>Entry-level</td>\n",
       "      <td>Contract</td>\n",
       "      <td>Remote</td>\n",
       "      <td>United States</td>\n",
       "      <td>L</td>\n",
       "    </tr>\n",
       "  </tbody>\n",
       "</table>\n",
       "<p>9355 rows × 12 columns</p>\n",
       "</div>"
      ],
      "text/plain": [
       "      work_year                 job_title                    job_category  \\\n",
       "0          2023      Data DevOps Engineer                Data Engineering   \n",
       "1          2023            Data Architect  Data Architecture and Modeling   \n",
       "2          2023            Data Architect  Data Architecture and Modeling   \n",
       "3          2023            Data Scientist       Data Science and Research   \n",
       "4          2023            Data Scientist       Data Science and Research   \n",
       "...         ...                       ...                             ...   \n",
       "9350       2021           Data Specialist    Data Management and Strategy   \n",
       "9351       2020            Data Scientist       Data Science and Research   \n",
       "9352       2021  Principal Data Scientist       Data Science and Research   \n",
       "9353       2020            Data Scientist       Data Science and Research   \n",
       "9354       2020     Business Data Analyst                   Data Analysis   \n",
       "\n",
       "     salary_currency  salary  salary_in_usd employee_residence  \\\n",
       "0                EUR   88000          95012            Germany   \n",
       "1                USD  186000         186000      United States   \n",
       "2                USD   81800          81800      United States   \n",
       "3                USD  212000         212000      United States   \n",
       "4                USD   93300          93300      United States   \n",
       "...              ...     ...            ...                ...   \n",
       "9350             USD  165000         165000      United States   \n",
       "9351             USD  412000         412000      United States   \n",
       "9352             USD  151000         151000      United States   \n",
       "9353             USD  105000         105000      United States   \n",
       "9354             USD  100000         100000      United States   \n",
       "\n",
       "     experience_level employment_type work_setting company_location  \\\n",
       "0           Mid-level       Full-time       Hybrid          Germany   \n",
       "1              Senior       Full-time    In-person    United States   \n",
       "2              Senior       Full-time    In-person    United States   \n",
       "3              Senior       Full-time    In-person    United States   \n",
       "4              Senior       Full-time    In-person    United States   \n",
       "...               ...             ...          ...              ...   \n",
       "9350           Senior       Full-time       Remote    United States   \n",
       "9351           Senior       Full-time       Remote    United States   \n",
       "9352        Mid-level       Full-time       Remote    United States   \n",
       "9353      Entry-level       Full-time       Remote    United States   \n",
       "9354      Entry-level        Contract       Remote    United States   \n",
       "\n",
       "     company_size  \n",
       "0               L  \n",
       "1               M  \n",
       "2               M  \n",
       "3               M  \n",
       "4               M  \n",
       "...           ...  \n",
       "9350            L  \n",
       "9351            L  \n",
       "9352            L  \n",
       "9353            S  \n",
       "9354            L  \n",
       "\n",
       "[9355 rows x 12 columns]"
      ]
     },
     "execution_count": 73,
     "metadata": {},
     "output_type": "execute_result"
    }
   ],
   "source": [
    "jobs = pd.read_csv(\"jobs_in_data.csv\")\n",
    "jobs"
   ]
  },
  {
   "cell_type": "markdown",
   "id": "ca44dab9",
   "metadata": {},
   "source": [
    "# Problem 7 Part a #"
   ]
  },
  {
   "cell_type": "markdown",
   "id": "37e484c6",
   "metadata": {},
   "source": [
    "### Code from ChatGPT: ### \n",
    "\n"
   ]
  },
  {
   "cell_type": "code",
   "execution_count": 74,
   "id": "8bb8a082",
   "metadata": {},
   "outputs": [
    {
     "name": "stdout",
     "output_type": "stream",
     "text": [
      "work_year                      2022      2023\n",
      "job_title                                    \n",
      "Data Analyst               108658.0  110988.0\n",
      "Data Engineer              139803.0  149945.0\n",
      "Data Scientist             138529.0  163714.0\n",
      "Machine Learning Engineer  151775.0  191026.0\n"
     ]
    }
   ],
   "source": [
    "import pandas as pd\n",
    "# Load the dataset\n",
    "\n",
    "jobs_df = pd.read_csv(\"jobs_in_data.csv\")\n",
    "\n",
    "# Filter the DataFrame to include only the relevant job titles\n",
    "job_titles = ['Data Analyst', 'Data Engineer', 'Data Scientist', 'Machine Learning Engineer']\n",
    "filtered_df = jobs_df[jobs_df['job_title'].isin(job_titles)]\n",
    "\n",
    "# Group by job title and work year, then calculate the average salary\n",
    "average_salaries = filtered_df.groupby(['job_title', 'work_year'])['salary_in_usd'].mean().unstack().round()\n",
    "\n",
    "# Select only the years 2022 and 2023\n",
    "average_salaries = average_salaries[[2022, 2023]]\n",
    "\n",
    "# Display the resulting table\n",
    "print(average_salaries)"
   ]
  },
  {
   "cell_type": "markdown",
   "id": "6975ea03",
   "metadata": {},
   "source": [
    "## Correspondence with ChatGPT ##"
   ]
  },
  {
   "cell_type": "markdown",
   "id": "e742da98",
   "metadata": {},
   "source": [
    "#### kiana: hi ####\n",
    "\n",
    "    GPT: Hello! How can I assist you today?\n",
    "\n",
    "#### kiana: i've got some python homework ####\n",
    "\n",
    "    GPT: Sure, I'd be happy to help with your Python homework. What specific problems or concepts are you working on?\n",
    "\n",
    "#### kiana: working with dataframes and pandas ####\n",
    "\n",
    "    GPT: Great! Pandas is a powerful library for data manipulation and analysis in Python. What specific tasks or problems are you trying to solve with DataFrames? If you have any code or data that you are working with, feel free to share it!\n",
    "\n",
    "#### kiana: i'd like to share a dataset ####\n",
    "\n",
    "    GPT: Sure! Please go ahead and upload your dataset. Once I have the data, I can help you with any questions or tasks you have related to it.\n",
    "\n",
    "### * Kiana shares the \"jobs_in_data.csv\" file with the attachment tool. ###"
   ]
  },
  {
   "cell_type": "markdown",
   "id": "3672dd8f",
   "metadata": {},
   "source": [
    "    GPT: Thanks for sharing your dataset! Here's an overview of the columns in your `jobs_in_data.csv` file:\n",
    "\n",
    "    1. **work_year**: Year of the job entry.\n",
    "    2. **job_title**: Title of the job.\n",
    "    3. **job_category**: Category of the job.\n",
    "    4. **salary_currency**: Currency of the salary.\n",
    "    5. **salary**: Salary in the given currency.\n",
    "    6. **salary_in_usd**: Salary converted to USD.\n",
    "    7. **employee_residence**: Country of residence of the employee.\n",
    "    8. **experience_level**: Experience level required for the job.\n",
    "    9. **employment_type**: Type of employment (e.g., Full-time).\n",
    "    10. **work_setting**: Work setting (e.g., Hybrid, In-person).   \n",
    "    11. **company_location**: Location of the company.\n",
    "    12. **company_size**: Size of the company (e.g., L for Large, M for Medium).\n",
    "\n",
    "    How would you like to proceed? Do you have any specific analyses or operations you'd like to perform on this data?\n",
    "\n"
   ]
  },
  {
   "cell_type": "markdown",
   "id": "c9e31fa6",
   "metadata": {},
   "source": [
    "#### Kiana (copied and pasted from Kropko's assignment): \n",
    "\n",
    "Our goal is to manipulate the jobs dataframe to create a table with four rows: one for each of the job titles Data Analyst, Data Engineer, Data Scientist, and Machine Learning Engineer; and two columns: one for the year 2022 and one for 2023. \n",
    "\n",
    "Inside each cell should be the average salary ( salary_in_usd ) for that job title and year, rounded to the nearest dollar. "
   ]
  },
  {
   "cell_type": "markdown",
   "id": "62e75e0e",
   "metadata": {},
   "source": [
    "    GPT: Here's the table showing the average salary (in USD) for the job titles Data Analyst, Data Engineer, Data Scientist, and Machine Learning Engineer for the years 2022 and 2023:\n",
    "\n",
    "    | Job Title                | 2022      | 2023      |\n",
    "    |--------------------------|-----------|-----------|\n",
    "    | Data Analyst             | $108,658  | $110,988  |\n",
    "    | Data Engineer            | $139,803  | $149,945  |\n",
    "    | Data Scientist           | $138,529  | $163,714  |\n",
    "    | Machine Learning Engineer| $151,775  | $191,026  |\n",
    "\n",
    "    If you need any further analysis or modifications, let me know!"
   ]
  },
  {
   "cell_type": "markdown",
   "id": "3ec4a501",
   "metadata": {},
   "source": [
    "#### kiana: thanks for the table! I'm looking for the python code to execute on this dataset in order to get this table as the output. ####\n",
    "\n"
   ]
  },
  {
   "cell_type": "markdown",
   "id": "cb7debc7",
   "metadata": {},
   "source": [
    "    GPT: Sure! Here is the complete Python code to create the table with the average salaries for the specified job titles and years:"
   ]
  },
  {
   "cell_type": "code",
   "execution_count": null,
   "id": "5dad19d6",
   "metadata": {},
   "outputs": [],
   "source": [
    "import pandas as pd\n",
    "\n",
    "# Load the dataset\n",
    "file_path = 'path_to_your_dataset/jobs_in_data.csv'\n",
    "jobs_df = pd.read_csv(file_path)\n",
    "\n",
    "# Filter the DataFrame to include only the relevant job titles\n",
    "job_titles = ['Data Analyst', 'Data Engineer', 'Data Scientist', 'Machine Learning Engineer']\n",
    "filtered_df = jobs_df[jobs_df['job_title'].isin(job_titles)]\n",
    "\n",
    "# Group by job title and work year, then calculate the average salary\n",
    "average_salaries = filtered_df.groupby(['job_title', 'work_year'])['salary_in_usd'].mean().unstack().round()\n",
    "\n",
    "# Select only the years 2022 and 2023\n",
    "average_salaries = average_salaries[[2022, 2023]]\n",
    "\n",
    "# Display the resulting table\n",
    "print(average_salaries)\n"
   ]
  },
  {
   "cell_type": "markdown",
   "id": "81c24834",
   "metadata": {},
   "source": [
    "    GPT: Replace 'path_to_your_dataset/jobs_in_data.csv' with the actual path to your dataset file. Running this code will give you the desired table with average salaries rounded to the nearest dollar."
   ]
  },
  {
   "cell_type": "markdown",
   "id": "813eefd2",
   "metadata": {},
   "source": [
    "#### kiana: love you ####"
   ]
  },
  {
   "cell_type": "markdown",
   "id": "1fda0e9f",
   "metadata": {},
   "source": [
    "    \n",
    "    GPT: I'm glad I could help! If you have any more questions or need further assistance, feel free to ask. Happy coding!\n",
    "\n",
    "\n",
    "\n",
    "\n",
    "\n",
    "\n"
   ]
  },
  {
   "cell_type": "markdown",
   "id": "0442499f",
   "metadata": {},
   "source": [
    "# Problem 7 Part b #"
   ]
  },
  {
   "cell_type": "markdown",
   "id": "6832f389",
   "metadata": {},
   "source": [
    "I think using ChatGPT for data wrangling before analysis has tremendous potential to assist myself and colleagues by providing us with a place to start, or a skeleton (in some cases with gpt code, zombies) with which to fill up with organs and blood, or data sources and legitimate logic in this metaphor. It should not be relied upon as a source of truth, ever (just like solutions one may find on stack overflow) . ALL code that comes from a generative AI tool should be checked, tested and amended before ever becoming part of any larger chunk of code."
   ]
  }
 ],
 "metadata": {
  "kernelspec": {
   "display_name": "Python 3 (ipykernel)",
   "language": "python",
   "name": "python3"
  },
  "language_info": {
   "codemirror_mode": {
    "name": "ipython",
    "version": 3
   },
   "file_extension": ".py",
   "mimetype": "text/x-python",
   "name": "python",
   "nbconvert_exporter": "python",
   "pygments_lexer": "ipython3",
   "version": "3.12.4"
  }
 },
 "nbformat": 4,
 "nbformat_minor": 5
}
