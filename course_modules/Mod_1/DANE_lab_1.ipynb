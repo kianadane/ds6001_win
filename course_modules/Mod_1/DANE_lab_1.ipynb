{
 "cells": [
  {
   "cell_type": "markdown",
   "id": "4f67d6cf-70c8-439e-a16c-388d49d14856",
   "metadata": {},
   "source": [
    "# Problem 0 #"
   ]
  },
  {
   "cell_type": "code",
   "execution_count": 39,
   "id": "a9e3f5d3-c7be-4eb6-9d23-773050135a33",
   "metadata": {},
   "outputs": [],
   "source": [
    "import numpy as np\n",
    "import pandas as pd\n",
    "import os\n",
    "import math"
   ]
  },
  {
   "cell_type": "markdown",
   "id": "62a5854d-b972-4bc8-975e-6698cd5f3467",
   "metadata": {},
   "source": [
    "# Problem 1 #"
   ]
  },
  {
   "cell_type": "code",
   "execution_count": 42,
   "id": "b6256867-0467-4f38-83bc-4198975b3f18",
   "metadata": {},
   "outputs": [],
   "source": [
    "## I would argue that ten or eleven different solutions were proposed, \n",
    "## depending on whether we count certain identical first steps from different solutions\n",
    "### as the same solution or not."
   ]
  },
  {
   "cell_type": "code",
   "execution_count": 44,
   "id": "69f3010a-9f3b-428e-8013-319fa661ffb6",
   "metadata": {},
   "outputs": [],
   "source": [
    "## An issue with developing a habit of using stack overflow is that there are\n",
    "## so often many ways to approach and solve a problem, some of which may\n",
    "## be better than others - and we need to know how to think critically\n",
    "## about the problem rather than apply a one-sized solution."
   ]
  },
  {
   "cell_type": "markdown",
   "id": "76021d60-6a14-454c-8bcc-95fed2dbaf11",
   "metadata": {},
   "source": [
    "# Problem 2 #"
   ]
  },
  {
   "cell_type": "code",
   "execution_count": 72,
   "id": "a6cd3c40-692f-4f6d-8775-34dfe56ba320",
   "metadata": {},
   "outputs": [
    {
     "data": {
      "text/plain": [
       "'log(x, /, out=None, *, where=True, casting=\\'same_kind\\', order=\\'K\\', dtype=None, subok=True[, signature, extobj])\\n\\nNatural logarithm, element-wise.\\n\\nThe natural logarithm `log` is the inverse of the exponential function,\\nso that `log(exp(x)) = x`. The natural logarithm is logarithm in base\\n`e`.\\n\\nParameters\\n----------\\nx : array_like\\n    Input value.\\nout : ndarray, None, or tuple of ndarray and None, optional\\n    A location into which the result is stored. If provided, it must have\\n    a shape that the inputs broadcast to. If not provided or None,\\n    a freshly-allocated array is returned. A tuple (possible only as a\\n    keyword argument) must have length equal to the number of outputs.\\nwhere : array_like, optional\\n    This condition is broadcast over the input. At locations where the\\n    condition is True, the `out` array will be set to the ufunc result.\\n    Elsewhere, the `out` array will retain its original value.\\n    Note that if an uninitialized `out` array is created via the default\\n    ``out=None``, locations within it where the condition is False will\\n    remain uninitialized.\\n**kwargs\\n    For other keyword-only arguments, see the\\n    :ref:`ufunc docs <ufuncs.kwargs>`.\\n\\nReturns\\n-------\\ny : ndarray\\n    The natural logarithm of `x`, element-wise.\\n    This is a scalar if `x` is a scalar.\\n\\nSee Also\\n--------\\nlog10, log2, log1p, emath.log\\n\\nNotes\\n-----\\nLogarithm is a multivalued function: for each `x` there is an infinite\\nnumber of `z` such that `exp(z) = x`. The convention is to return the\\n`z` whose imaginary part lies in `(-pi, pi]`.\\n\\nFor real-valued input data types, `log` always returns real output. For\\neach value that cannot be expressed as a real number or infinity, it\\nyields ``nan`` and sets the `invalid` floating point error flag.\\n\\nFor complex-valued input, `log` is a complex analytical function that\\nhas a branch cut `[-inf, 0]` and is continuous from above on it. `log`\\nhandles the floating-point negative zero as an infinitesimal negative\\nnumber, conforming to the C99 standard.\\n\\nIn the cases where the input has a negative real part and a very small\\nnegative complex part (approaching 0), the result is so close to `-pi`\\nthat it evaluates to exactly `-pi`.\\n\\nReferences\\n----------\\n.. [1] M. Abramowitz and I.A. Stegun, \"Handbook of Mathematical Functions\",\\n       10th printing, 1964, pp. 67.\\n       https://personal.math.ubc.ca/~cbm/aands/page_67.htm\\n.. [2] Wikipedia, \"Logarithm\". https://en.wikipedia.org/wiki/Logarithm\\n\\nExamples\\n--------\\n>>> np.log([1, np.e, np.e**2, 0])\\narray([  0.,   1.,   2., -Inf])'"
      ]
     },
     "execution_count": 72,
     "metadata": {},
     "output_type": "execute_result"
    }
   ],
   "source": [
    "np.log.__doc__"
   ]
  },
  {
   "cell_type": "code",
   "execution_count": 74,
   "id": "d52e762d-0e31-43f4-a332-92d174385018",
   "metadata": {},
   "outputs": [
    {
     "data": {
      "text/plain": [
       "'log(x, [base=math.e])\\nReturn the logarithm of x to the given base.\\n\\nIf the base not specified, returns the natural logarithm (base e) of x.'"
      ]
     },
     "execution_count": 74,
     "metadata": {},
     "output_type": "execute_result"
    }
   ],
   "source": [
    "math.log.__doc__"
   ]
  },
  {
   "cell_type": "code",
   "execution_count": 80,
   "id": "c11bb06d-86c6-45e8-afc7-54ee7ed57273",
   "metadata": {},
   "outputs": [
    {
     "data": {
      "text/plain": [
       "1.7712437491614221"
      ]
     },
     "execution_count": 80,
     "metadata": {},
     "output_type": "execute_result"
    }
   ],
   "source": [
    "tar = 7\n",
    "bse = 3\n",
    "ans = math.log(tar,bse)\n",
    "ans"
   ]
  },
  {
   "cell_type": "code",
   "execution_count": 84,
   "id": "f374ecd2-9029-4209-bad1-6d5df9a5750f",
   "metadata": {},
   "outputs": [
    {
     "data": {
      "text/plain": [
       "'1.26.4'"
      ]
     },
     "execution_count": 84,
     "metadata": {},
     "output_type": "execute_result"
    }
   ],
   "source": [
    "np.version.version"
   ]
  },
  {
   "cell_type": "markdown",
   "id": "fe65f952-c449-4b1b-a7e4-5ab949a6e883",
   "metadata": {},
   "source": [
    "# Problem 3 #"
   ]
  },
  {
   "cell_type": "markdown",
   "id": "f7c95f8b-eb20-4135-b806-397b2dcd4137",
   "metadata": {},
   "source": [
    "![screenshot of Dane's screen showing docstring for DataFrame function in pandas](ds6001_sg.png \"Problem 3\")"
   ]
  },
  {
   "cell_type": "markdown",
   "id": "c5edda09-63b6-4ad5-a3c7-ce90976ed971",
   "metadata": {},
   "source": [
    "![Dane_Problem_3.jpg](attachment:ds6001_sg.jpg)"
   ]
  },
  {
   "cell_type": "markdown",
   "id": "b738f153-ae42-4d2f-b26a-5a77c2d5649d",
   "metadata": {},
   "source": [
    "# Problem 4 #"
   ]
  },
  {
   "cell_type": "code",
   "execution_count": null,
   "id": "f92fe668-4fe9-4c93-b1a3-cea0a3922380",
   "metadata": {},
   "outputs": [],
   "source": []
  }
 ],
 "metadata": {
  "kernelspec": {
   "display_name": "Python 3 (ipykernel)",
   "language": "python",
   "name": "python3"
  },
  "language_info": {
   "codemirror_mode": {
    "name": "ipython",
    "version": 3
   },
   "file_extension": ".py",
   "mimetype": "text/x-python",
   "name": "python",
   "nbconvert_exporter": "python",
   "pygments_lexer": "ipython3",
   "version": "3.11.7"
  }
 },
 "nbformat": 4,
 "nbformat_minor": 5
}
