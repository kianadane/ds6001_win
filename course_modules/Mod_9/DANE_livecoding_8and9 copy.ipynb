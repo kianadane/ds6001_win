{
 "cells": [
  {
   "cell_type": "markdown",
   "metadata": {},
   "source": [
    "live coding 9"
   ]
  },
  {
   "cell_type": "markdown",
   "metadata": {},
   "source": [
    "cases_reshape = cases+convict_race.pivot_table(index = ['CodeSection', 'fips']\n",
    "columns = 'Race', \n",
    "values = 'count', fill_value=0).reset_index()\n",
    "\n",
    "cases_reshape"
   ]
  },
  {
   "cell_type": "markdown",
   "metadata": {},
   "source": [
    "cases_convict_race = cases_convict.groupby(['CodeSection', 'Race','fips':].size().reset_index()\n",
    "\n",
    "cases_convict_race = cases_convict_race.rename(0:'count'), axis=1)\n",
    "\n",
    "cases_convict_race"
   ]
  },
  {
   "cell_type": "markdown",
   "metadata": {},
   "source": [
    "cases_reshape=cases_reshape.query()"
   ]
  },
  {
   "cell_type": "markdown",
   "metadata": {},
   "source": [
    "cases_reshape = cases_reshape.assign(black_percent = cases_reshape[])"
   ]
  },
  {
   "cell_type": "markdown",
   "metadata": {},
   "source": [
    "cases_reshape.sort_values('black_percent', ascending=False)"
   ]
  },
  {
   "cell_type": "markdown",
   "metadata": {},
   "source": [
    "############################"
   ]
  },
  {
   "cell_type": "code",
   "execution_count": null,
   "metadata": {},
   "outputs": [],
   "source": [
    "cases.query()"
   ]
  },
  {
   "cell_type": "markdown",
   "metadata": {},
   "source": [
    "If you have a \"small\" dataset, do the merge twice: once with checks, once without"
   ]
  },
  {
   "cell_type": "markdown",
   "metadata": {},
   "source": [
    "#merge with checks\n",
    "#if this runs without error, the 'one_to_one' validation is accurate\n",
    "\n",
    "pop = pd.merge(race_pop, hisp_pop,\n",
    "                on = 'fips'\n",
    "                how = 'outer'\n",
    "                validate = 'one_to_one'\n",
    "                indicator = 'matched')"
   ]
  },
  {
   "cell_type": "markdown",
   "metadata": {},
   "source": [
    "34. pop['matched'].value_counts()"
   ]
  },
  {
   "cell_type": "markdown",
   "metadata": {},
   "source": [
    "#merge without checks\n",
    "\n",
    "pop = pd.merge(race_pop, hisp_pop,\n",
    "on = 'fips'\n",
    "how = 'inner')\n"
   ]
  },
  {
   "cell_type": "markdown",
   "metadata": {},
   "source": [
    "pop.query('fips==17')"
   ]
  },
  {
   "cell_type": "markdown",
   "metadata": {},
   "source": [
    "pop.query('fips==29')"
   ]
  },
  {
   "cell_type": "markdown",
   "metadata": {},
   "source": [
    "pop.query('fips==36')"
   ]
  },
  {
   "cell_type": "code",
   "execution_count": null,
   "metadata": {},
   "outputs": [],
   "source": [
    "cases_pop = pd.merge(cases_reshape, pop, \n",
    "on = 'fips',\n",
    "how = 'outer',\n",
    "validate = 'many_to_one',\n",
    "indicator = 'matched')"
   ]
  },
  {
   "cell_type": "code",
   "execution_count": null,
   "metadata": {},
   "outputs": [],
   "source": [
    "cases_pop['matched'].value_counts()"
   ]
  },
  {
   "cell_type": "markdown",
   "metadata": {},
   "source": [
    "cases_pop.query(\"matched=='left_only'\")['fips'].unique()"
   ]
  },
  {
   "cell_type": "markdown",
   "metadata": {},
   "source": [
    "replace_map:{701: 700,\n",
    "711:710\n",
    "761: 760\n",
    "762:760,\n",
    "764:760\n",
    "712:710,\n",
    "702: 700}\n",
    "cases_reshape['fips'] = cases_reshape['fips'].replace(replace_map)"
   ]
  },
  {
   "cell_type": "markdown",
   "metadata": {},
   "source": [
    "cases_pop['matched'].value_counts()"
   ]
  },
  {
   "cell_type": "markdown",
   "metadata": {},
   "source": [
    "# *Reasons why rows might fail to match:\n",
    "\n",
    "1. Differences in coding/spelling: recode the values in one dataset so that they match\n",
    "\n",
    "2. Differences in coverage: nothing we can do, other than collect new data if feasible."
   ]
  },
  {
   "cell_type": "markdown",
   "metadata": {},
   "source": [
    "cases_pop = pd.merge(cases_reshape, pop,\n",
    "on='fips',\n",
    "how- 'inner')"
   ]
  },
  {
   "cell_type": "markdown",
   "metadata": {},
   "source": [
    "cases_pop['black_overrep_index'] = cases_pop['black_percent']/(cases_pop['black-pop']/cases_pop['total_pop'])"
   ]
  },
  {
   "cell_type": "markdown",
   "metadata": {},
   "source": [
    "53. cases_pop.sort_values('black_overrep_index', ascending=False)[['CodeSection', 'jurisdiction', 'Black','total', 'black_pop', 'total_pop', 'black_overrep_index']]"
   ]
  }
 ],
 "metadata": {
  "language_info": {
   "name": "python"
  }
 },
 "nbformat": 4,
 "nbformat_minor": 2
}
