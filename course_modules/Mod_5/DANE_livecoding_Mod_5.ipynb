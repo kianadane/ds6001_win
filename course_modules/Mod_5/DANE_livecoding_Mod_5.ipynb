{
 "cells": [
  {
   "cell_type": "code",
   "execution_count": 1,
   "metadata": {},
   "outputs": [],
   "source": [
    "import numpy as np\n",
    "import pandas as pd\n",
    "import requests\n",
    "from bs4 import BeautifulSoup\n",
    "import json"
   ]
  },
  {
   "cell_type": "code",
   "execution_count": 2,
   "metadata": {},
   "outputs": [
    {
     "name": "stdout",
     "output_type": "stream",
     "text": [
      "python-requests/2.32.2\n"
     ]
    }
   ],
   "source": [
    "r = requests.get('https://httpbin.org/user-agent')\n",
    "useragent = json.loads(r.text)['user-agent']\n",
    "headers = {'User-Agent': useragent,\n",
    "           'From': 'urn8he@virginia.edu'}\n",
    "print(useragent)"
   ]
  },
  {
   "cell_type": "code",
   "execution_count": 3,
   "metadata": {},
   "outputs": [
    {
     "data": {
      "text/plain": [
       "<Response [200]>"
      ]
     },
     "execution_count": 3,
     "metadata": {},
     "output_type": "execute_result"
    }
   ],
   "source": [
    "url = 'https://www.rottentomatoes.com/browse/movies_in_theaters/sort:a_z?page=5'\n",
    "r = requests.get(url, headers = headers)\n",
    "r"
   ]
  },
  {
   "cell_type": "code",
   "execution_count": 4,
   "metadata": {},
   "outputs": [],
   "source": [
    "mysoup = BeautifulSoup(r.text, 'html.parser')"
   ]
  },
  {
   "cell_type": "markdown",
   "metadata": {},
   "source": [
    "# Goal 1\n",
    "\n"
   ]
  },
  {
   "cell_type": "markdown",
   "metadata": {},
   "source": [
    "Get a list of hyperlinks to individual movies' pages"
   ]
  },
  {
   "cell_type": "code",
   "execution_count": 5,
   "metadata": {},
   "outputs": [],
   "source": [
    "hreflist = mysoup.find_all('a', attrs = {'data-track' : 'scores'})"
   ]
  },
  {
   "cell_type": "code",
   "execution_count": 6,
   "metadata": {},
   "outputs": [
    {
     "data": {
      "text/plain": [
       "'/m/bad_boys_ride_or_die'"
      ]
     },
     "execution_count": 6,
     "metadata": {},
     "output_type": "execute_result"
    }
   ],
   "source": [
    "hreflist[3]['href']"
   ]
  },
  {
   "cell_type": "code",
   "execution_count": 7,
   "metadata": {},
   "outputs": [],
   "source": [
    "movielinks =['https://www.rottentomatoes.com' + x['href'] for x in hreflist]"
   ]
  },
  {
   "cell_type": "code",
   "execution_count": 8,
   "metadata": {},
   "outputs": [
    {
     "data": {
      "text/plain": [
       "['https://www.rottentomatoes.com/m/a_man_of_reason',\n",
       " 'https://www.rottentomatoes.com/m/a_quiet_place_day_one',\n",
       " 'https://www.rottentomatoes.com/m/babes',\n",
       " 'https://www.rottentomatoes.com/m/bad_boys_ride_or_die',\n",
       " 'https://www.rottentomatoes.com/m/banel_and_adama',\n",
       " 'https://www.rottentomatoes.com/m/beverly_hills_cop_axel_f',\n",
       " 'https://www.rottentomatoes.com/m/blue_lock_the_movie_episode_nagi',\n",
       " 'https://www.rottentomatoes.com/m/boneyard_2024',\n",
       " 'https://www.rottentomatoes.com/m/chestnut',\n",
       " 'https://www.rottentomatoes.com/m/close_encounters_of_the_third_kind',\n",
       " 'https://www.rottentomatoes.com/m/daddio_2023',\n",
       " 'https://www.rottentomatoes.com/m/dandelion_2024',\n",
       " 'https://www.rottentomatoes.com/m/dead_whisper',\n",
       " 'https://www.rottentomatoes.com/m/despicable_me_4',\n",
       " 'https://www.rottentomatoes.com/m/talju',\n",
       " 'https://www.rottentomatoes.com/m/escape_2023',\n",
       " 'https://www.rottentomatoes.com/m/evil_does_not_exist',\n",
       " 'https://www.rottentomatoes.com/m/firebrand_2023',\n",
       " 'https://www.rottentomatoes.com/m/fly_me_to_the_moon_2024',\n",
       " 'https://www.rottentomatoes.com/m/furiosa_a_mad_max_saga',\n",
       " 'https://www.rottentomatoes.com/m/ghostlight_2024',\n",
       " 'https://www.rottentomatoes.com/m/goldilocks_and_the_two_bears',\n",
       " 'https://www.rottentomatoes.com/m/green_border',\n",
       " 'https://www.rottentomatoes.com/m/hijack_1971',\n",
       " 'https://www.rottentomatoes.com/m/horizon_an_american_saga_chapter_1',\n",
       " 'https://www.rottentomatoes.com/m/how_to_come_alive_with_norman_mailer',\n",
       " 'https://www.rottentomatoes.com/m/i_used_to_be_funny',\n",
       " 'https://www.rottentomatoes.com/m/if_2024',\n",
       " 'https://www.rottentomatoes.com/m/in_a_violent_nature',\n",
       " 'https://www.rottentomatoes.com/m/inside_out_2',\n",
       " 'https://www.rottentomatoes.com/m/janet_planet',\n",
       " 'https://www.rottentomatoes.com/m/jatt_and_juliet_3',\n",
       " 'https://www.rottentomatoes.com/m/june_zero',\n",
       " 'https://www.rottentomatoes.com/m/kalki_2898_ad',\n",
       " 'https://www.rottentomatoes.com/m/kill_2023_2',\n",
       " 'https://www.rottentomatoes.com/m/kinds_of_kindness',\n",
       " 'https://www.rottentomatoes.com/m/kingdom_of_the_planet_of_the_apes',\n",
       " 'https://www.rottentomatoes.com/m/last_summer_2023',\n",
       " 'https://www.rottentomatoes.com/m/life_hotel',\n",
       " 'https://www.rottentomatoes.com/m/longlegs',\n",
       " 'https://www.rottentomatoes.com/m/lumina',\n",
       " 'https://www.rottentomatoes.com/m/maxxxine',\n",
       " 'https://www.rottentomatoes.com/m/made_in_england_the_films_of_powell_and_pressburger',\n",
       " 'https://www.rottentomatoes.com/m/mother_couch',\n",
       " 'https://www.rottentomatoes.com/m/murder_company',\n",
       " 'https://www.rottentomatoes.com/m/national_anthem',\n",
       " 'https://www.rottentomatoes.com/m/nostalghia',\n",
       " 'https://www.rottentomatoes.com/m/princess_mononoke',\n",
       " 'https://www.rottentomatoes.com/m/project_silence',\n",
       " 'https://www.rottentomatoes.com/m/robot_dreams',\n",
       " 'https://www.rottentomatoes.com/m/run_lola_run',\n",
       " 'https://www.rottentomatoes.com/m/sarfira',\n",
       " 'https://www.rottentomatoes.com/m/seven_samurai_1956',\n",
       " 'https://www.rottentomatoes.com/m/sing_sing',\n",
       " 'https://www.rottentomatoes.com/m/skywalkers_a_love_story',\n",
       " 'https://www.rottentomatoes.com/m/sorry_not_sorry',\n",
       " 'https://www.rottentomatoes.com/m/sound_of_hope_the_story_of_possum_trot',\n",
       " 'https://www.rottentomatoes.com/m/summer_camp_2024',\n",
       " 'https://www.rottentomatoes.com/m/taking_venice',\n",
       " 'https://www.rottentomatoes.com/m/the_beast_2023',\n",
       " 'https://www.rottentomatoes.com/m/the_bikeriders',\n",
       " 'https://www.rottentomatoes.com/m/the_blue_rose',\n",
       " 'https://www.rottentomatoes.com/m/the_convert_2023',\n",
       " 'https://www.rottentomatoes.com/m/the_exorcism_2024',\n",
       " 'https://www.rottentomatoes.com/m/the_fall_guy_2024',\n",
       " 'https://www.rottentomatoes.com/m/the_garfield_movie',\n",
       " 'https://www.rottentomatoes.com/m/the_inheritance_2024',\n",
       " 'https://www.rottentomatoes.com/m/the_nature_of_love',\n",
       " 'https://www.rottentomatoes.com/m/the_old_oak',\n",
       " 'https://www.rottentomatoes.com/m/the_secret_art_of_human_flight',\n",
       " 'https://www.rottentomatoes.com/m/the_small_back_room_1952',\n",
       " 'https://www.rottentomatoes.com/m/the_strangers_chapter_1',\n",
       " 'https://www.rottentomatoes.com/m/the_watchers_2024',\n",
       " 'https://www.rottentomatoes.com/m/thelma_2024',\n",
       " 'https://www.rottentomatoes.com/m/touch_2024',\n",
       " 'https://www.rottentomatoes.com/m/wicked_little_letters']"
      ]
     },
     "execution_count": 8,
     "metadata": {},
     "output_type": "execute_result"
    }
   ],
   "source": [
    "movielinks"
   ]
  },
  {
   "cell_type": "markdown",
   "metadata": {},
   "source": [
    "# Goal 2"
   ]
  },
  {
   "cell_type": "markdown",
   "metadata": {},
   "source": [
    "Extract data from one movie page"
   ]
  },
  {
   "cell_type": "code",
   "execution_count": 9,
   "metadata": {},
   "outputs": [],
   "source": [
    "url = movielinks[4]"
   ]
  },
  {
   "cell_type": "code",
   "execution_count": 10,
   "metadata": {},
   "outputs": [],
   "source": [
    "r = requests.get(url, headers = headers)\n",
    "mysoup = BeautifulSoup(r.text)"
   ]
  },
  {
   "cell_type": "code",
   "execution_count": 11,
   "metadata": {},
   "outputs": [],
   "source": [
    "moviedata = {}"
   ]
  },
  {
   "cell_type": "code",
   "execution_count": 12,
   "metadata": {},
   "outputs": [],
   "source": [
    "moviedata['title'] = mysoup.find('title').text. replace(' | Rotten Tomatoes', '')"
   ]
  },
  {
   "cell_type": "code",
   "execution_count": 13,
   "metadata": {},
   "outputs": [
    {
     "data": {
      "text/plain": [
       "{'title': 'Banel & Adama'}"
      ]
     },
     "execution_count": 13,
     "metadata": {},
     "output_type": "execute_result"
    }
   ],
   "source": [
    "moviedata"
   ]
  },
  {
   "cell_type": "markdown",
   "metadata": {},
   "source": [
    "# Goal 3"
   ]
  },
  {
   "cell_type": "markdown",
   "metadata": {},
   "source": []
  },
  {
   "cell_type": "code",
   "execution_count": 14,
   "metadata": {},
   "outputs": [
    {
     "data": {
      "text/plain": [
       "<meta content=\"Banel and Adama are fiercely in love. The young couple lives in a remote village in northern Senegal. For them, nothing else exists except each other. But for the rest of their tight-knit village, duty dictates that Adama soon accept the role of chief. The two lovers have other plans... until something in the air changes. The rains do not come; the cattle begin to die; the men leave. A rare debut feature that premiered in competition at the Cannes Film Festival, and Senegal's official submission to the Academy Awards®, Ramata-Toulaye Sy's Banel &amp; Adama is a lush and lyrical fable that soars to the heights of longing and descends deep into the realm of myth, sending its protagonists' idyllic love on a collision course with their community's customs. Because in this world, there is no room for passion, let alone chaos.\" name=\"description\">\n",
       "<meta content=\"summary\" name=\"twitter:card\">\n",
       "<meta content=\"https://resizing.flixster.com/m6xyJ1VTaD9AQV_obahVyggORtA=/206x305/v2/https://resizing.flixster.com/iMqD-ij1HLKPgzEj89w0BpgCG7E=/ems.cHJkLWVtcy1hc3NldHMvbW92aWVzL2ExNDI5NTM0LTM2MjktNGQ4MC04YTNjLTBlM2FlNTJhNzU0OC5qcGc=\" name=\"twitter:image\"/>\n",
       "<meta content=\"Banel &amp; Adama | Rotten Tomatoes\" name=\"twitter:title\"/>\n",
       "<meta content=\"Banel &amp; Adama | Rotten Tomatoes\" name=\"twitter:text:title\"/>\n",
       "<meta content=\"Banel and Adama are fiercely in love. The young couple lives in a remote village in northern Senegal. For them, nothing else exists except each other. But for the rest of their tight-knit village, duty dictates that Adama soon accept the role of chief. The two lovers have other plans... until something in the air changes. The rains do not come; the cattle begin to die; the men leave. A rare debut feature that premiered in competition at the Cannes Film Festival, and Senegal's official submission to the Academy Awards®, Ramata-Toulaye Sy's Banel &amp; Adama is a lush and lyrical fable that soars to the heights of longing and descends deep into the realm of myth, sending its protagonists' idyllic love on a collision course with their community's customs. Because in this world, there is no room for passion, let alone chaos.\" name=\"twitter:description\"/>\n",
       "<meta content=\"Rotten Tomatoes\" property=\"og:site_name\"/>\n",
       "<meta content=\"Banel &amp; Adama | Rotten Tomatoes\" property=\"og:title\"/>\n",
       "<meta content=\"Banel and Adama are fiercely in love. The young couple lives in a remote village in northern Senegal. For them, nothing else exists except each other. But for the rest of their tight-knit village, duty dictates that Adama soon accept the role of chief. The two lovers have other plans... until something in the air changes. The rains do not come; the cattle begin to die; the men leave. A rare debut feature that premiered in competition at the Cannes Film Festival, and Senegal's official submission to the Academy Awards®, Ramata-Toulaye Sy's Banel &amp; Adama is a lush and lyrical fable that soars to the heights of longing and descends deep into the realm of myth, sending its protagonists' idyllic love on a collision course with their community's customs. Because in this world, there is no room for passion, let alone chaos.\" property=\"og:description\"/>\n",
       "<meta content=\"video.movie\" property=\"og:type\"/>\n",
       "<meta content=\"https://www.rottentomatoes.com/m/banel_and_adama\" property=\"og:url\"/>\n",
       "<meta content=\"https://resizing.flixster.com/m6xyJ1VTaD9AQV_obahVyggORtA=/206x305/v2/https://resizing.flixster.com/iMqD-ij1HLKPgzEj89w0BpgCG7E=/ems.cHJkLWVtcy1hc3NldHMvbW92aWVzL2ExNDI5NTM0LTM2MjktNGQ4MC04YTNjLTBlM2FlNTJhNzU0OC5qcGc=\" property=\"og:image\"/>\n",
       "<meta content=\"en_US\" property=\"og:locale\"/>\n",
       "<link href=\"https://www.rottentomatoes.com/m/banel_and_adama\" rel=\"canonical\"/>\n",
       "<script>\n",
       "    var dataLayer = dataLayer || [];\n",
       "    var RottenTomatoes = RottenTomatoes || {};\n",
       "    RottenTomatoes.dtmData = {\"customerId\":\"\",\"loggedInStatus\":\"\",\"rtVersion\":3.1,\"webVersion\":\"node\",\"emsID\":\"9bd16a34-da19-3a69-a0bf-06482f6d36ea\",\"lifeCycleWindow\":\"IN_THEATERS\",\"pageName\":\"rt | movies | overview | Banel & Adama\",\"titleGenre\":\"Drama\",\"titleId\":\"9bd16a34-da19-3a69-a0bf-06482f6d36ea\",\"titleName\":\"Banel & Adama\",\"titleType\":\"Movie\"};\n",
       "    dataLayer.push({\"customerId\":\"\",\"loggedInStatus\":\"\",\"rtVersion\":3.1,\"webVersion\":\"node\",\"emsID\":\"9bd16a34-da19-3a69-a0bf-06482f6d36ea\",\"lifeCycleWindow\":\"IN_THEATERS\",\"pageName\":\"rt | movies | overview | Banel & Adama\",\"titleGenre\":\"Drama\",\"titleId\":\"9bd16a34-da19-3a69-a0bf-06482f6d36ea\",\"titleName\":\"Banel & Adama\",\"titleType\":\"Movie\"});\n",
       "</script>\n",
       "<script id=\"mps-page-integration\">\n",
       "        window.mpscall = {\"cag[certified_fresh]\":\"0\",\"cag[fresh_rotten]\":\"rotten\",\"cag[movieshow]\":\"Banel & Adama\",\"cag[release]\":\"Jun 7, 2024\",\"cag[score]\":\"null\",\"cag[urlid]\":\"/banel_and_adama\",\"cat\":\"movie|movie_page\",\"field[env]\":\"production\",\"field[rtid]\":\"9bd16a34-da19-3a69-a0bf-06482f6d36ea\",\"title\":\"Banel & Adama\",\"type\":\"movie_page\",\"site\":\"rottentomatoes-web\"};\n",
       "        var mpsopts={'host':'mps.nbcuni.com', 'updatecorrelator':1};\n",
       "        var mps=mps||{};mps._ext=mps._ext||{};mps._adsheld=[];mps._queue=mps._queue||{};mps._queue.mpsloaded=mps._queue.mpsloaded||[];mps._queue.mpsinit=mps._queue.mpsinit||[];mps._queue.gptloaded=mps._queue.gptloaded||[];mps._queue.adload=mps._queue.adload||[];mps._queue.adclone=mps._queue.adclone||[];mps._queue.adview=mps._queue.adview||[];mps._queue.refreshads=mps._queue.refreshads||[];mps.__timer=Date.now||function(){return+new Date};mps.__intcode=\"v2\";if(typeof mps.getAd!=\"function\")mps.getAd=function(adunit){if(typeof adunit!=\"string\")return false;var slotid=\"mps-getad-\"+adunit.replace(/\\W/g,\"\");if(!mps._ext||!mps._ext.loaded){mps._queue.gptloaded.push(function(){typeof mps._gptfirst==\"function\"&&mps._gptfirst(adunit,slotid);mps.insertAd(\"#\"+slotid,adunit)});mps._adsheld.push(adunit)}return'<div id=\"'+slotid+'\" class=\"mps-wrapper\" data-mps-fill-slot=\"'+adunit+'\"></div>'};\n",
       "    </script>\n",
       "<script id=\"mps-load\" src=\"//mps.nbcuni.com/fetch/ext/load-rottentomatoes-web.js?nowrite=2\"></script>\n",
       "<script type=\"application/ld+json\">{\"@context\":\"http://schema.org\",\"@type\":\"Movie\",\"actor\":[{\"@type\":\"Person\",\"name\":\"Khady Mane\",\"sameAs\":\"https://www.rottentomatoes.com/celebrity/khady_mane\",\"image\":\"https://images.fandango.com/cms/assets/b0cefeb0-b6a8-11ed-81d8-51a487a38835--poster-default-thumbnail.jpg\"},{\"@type\":\"Person\",\"name\":\"Mamadou Diallo\",\"sameAs\":\"https://www.rottentomatoes.com/celebrity/mamadou_diallo\",\"image\":\"https://images.fandango.com/cms/assets/b0cefeb0-b6a8-11ed-81d8-51a487a38835--poster-default-thumbnail.jpg\"},{\"@type\":\"Person\",\"name\":\"Binta Racine Sy\",\"sameAs\":\"https://www.rottentomatoes.com/celebrity/binta_racine_sy\",\"image\":\"https://images.fandango.com/cms/assets/b0cefeb0-b6a8-11ed-81d8-51a487a38835--poster-default-thumbnail.jpg\"},{\"@type\":\"Person\",\"name\":\"Moussa Sow\",\"sameAs\":\"https://www.rottentomatoes.com/celebrity/moussa_sow\",\"image\":\"https://images.fandango.com/cms/assets/b0cefeb0-b6a8-11ed-81d8-51a487a38835--poster-default-thumbnail.jpg\"},{\"@type\":\"Person\",\"name\":\"Ndiabel Diallo\",\"sameAs\":\"https://www.rottentomatoes.com/celebrity/ndiabel_diallo\",\"image\":\"https://images.fandango.com/cms/assets/b0cefeb0-b6a8-11ed-81d8-51a487a38835--poster-default-thumbnail.jpg\"}],\"aggregateRating\":{\"@type\":\"AggregateRating\",\"bestRating\":\"100\",\"description\":\"The Tomatometer rating – based on the published opinions of hundreds of film and television critics – is a trusted measurement of movie and TV programming quality for millions of moviegoers. It represents the percentage of professional critic reviews that are positive for a given film or television show.\",\"name\":\"Tomatometer\",\"ratingCount\":38,\"ratingValue\":\"95\",\"reviewCount\":38,\"worstRating\":\"0\"},\"dateCreated\":\"2024-06-07\",\"director\":[{\"@type\":\"Person\",\"name\":\"Ramata-Toulaye Sy\",\"sameAs\":\"https://www.rottentomatoes.com/celebrity/ramata_toulaye_sy\",\"image\":\"https://images.fandango.com/cms/assets/b0cefeb0-b6a8-11ed-81d8-51a487a38835--poster-default-thumbnail.jpg\"}],\"description\":\"Banel and Adama are fiercely in love. The young couple lives in a remote village in northern Senegal. For them, nothing else exists except each other. But for the rest of their tight-knit village, duty dictates that Adama soon accept the role of chief. The two lovers have other plans... until something in the air changes. The rains do not come; the cattle begin to die; the men leave. A rare debut feature that premiered in competition at the Cannes Film Festival, and Senegal's official submission to the Academy Awards®, Ramata-Toulaye Sy's Banel & Adama is a lush and lyrical fable that soars to the heights of longing and descends deep into the realm of myth, sending its protagonists' idyllic love on a collision course with their community's customs. Because in this world, there is no room for passion, let alone chaos.\",\"genre\":[\"Drama\"],\"image\":\"https://resizing.flixster.com/iMqD-ij1HLKPgzEj89w0BpgCG7E=/ems.cHJkLWVtcy1hc3NldHMvbW92aWVzL2ExNDI5NTM0LTM2MjktNGQ4MC04YTNjLTBlM2FlNTJhNzU0OC5qcGc=\",\"name\":\"Banel & Adama\",\"producer\":[{\"@type\":\"Person\",\"name\":\"Margaux Juvénal\",\"sameAs\":\"https://www.rottentomatoes.com/celebrity/margaux_juvenal\",\"image\":\"https://images.fandango.com/cms/assets/b0cefeb0-b6a8-11ed-81d8-51a487a38835--poster-default-thumbnail.jpg\"},{\"@type\":\"Person\",\"name\":\"Maud Leclair\",\"sameAs\":\"https://www.rottentomatoes.com/celebrity/maud_leclair\",\"image\":\"https://images.fandango.com/cms/assets/b0cefeb0-b6a8-11ed-81d8-51a487a38835--poster-default-thumbnail.jpg\"}],\"review\":[{\"@type\":\"Review\",\"reviewBody\":\"A poetic and beautifully shot film about obsessive love and the trouble that often comes from getting what you want&#44; at any cost&#46;&#10;\",\"url\":\"https://spectrumculture.com/2024/06/10/banel-adama-review/\",\"dateCreated\":\"2024-07-09T17:03:55.000Z\",\"author\":{\"@type\":\"Person\",\"url\":\"https://www.rottentomatoes.com/critics/daniel-pemberton\",\"name\":\"Daniel Pemberton\"},\"reviewRating\":{\"@type\":\"Rating\",\"bestRating\":\"1\",\"worstRating\":\"-1\",\"ratingValue\":1},\"publisher\":{\"@type\":\"Organization\",\"name\":\"Spectrum Culture\",\"url\":\"http://spectrumculture.com\"}},{\"@type\":\"Review\",\"reviewBody\":\"tragedy of mythic proportion escalates&#46; Desire faces the world&#59; the world looks back&#46; Lovely and lyrical even as the bravura filmmaking outstrips the contours of the story&#46;\",\"url\":\"https://www.newcityfilm.com/2024/06/13/talking-screens-june-14-june-20-2024-pablo-bergers-animated-tragicomedy-robot-dream-beautiful-yet-opaque-morvern-callar-street-named-after-chicago-born-william-friedkin/\",\"dateCreated\":\"2024-07-04T21:43:41.000Z\",\"author\":{\"@type\":\"Person\",\"url\":\"https://www.rottentomatoes.com/critics/ray-pride\",\"name\":\"Ray Pride\"},\"reviewRating\":{\"@type\":\"Rating\",\"bestRating\":\"1\",\"worstRating\":\"-1\",\"ratingValue\":1},\"publisher\":{\"@type\":\"Organization\",\"name\":\"Newcity\",\"url\":\"\"}},{\"@type\":\"Review\",\"reviewBody\":\"A tale of star-crossed lovers gets a welcome refresh that&#8217;s equal parts tragic and enigmatic in Banel &amp; Adama&#46;\",\"url\":\"https://screeningroompodcast.com/the-bikeriders-thelma-robot-dreams-black-barbie-cora-bora-waiting-for-dali-the-exorcism-trigger-warning-queen-rising-banel-and-adama-chestnut/\",\"dateCreated\":\"2024-06-21T20:25:20.000Z\",\"author\":{\"@type\":\"Person\",\"url\":\"https://www.rottentomatoes.com/critics/hope-madden\",\"name\":\"Hope Madden\"},\"reviewRating\":{\"@type\":\"Rating\",\"bestRating\":\"1\",\"worstRating\":\"-1\",\"ratingValue\":1},\"publisher\":{\"@type\":\"Organization\",\"name\":\"The Screening Room Podcast\"}},{\"@type\":\"Review\",\"reviewBody\":\"... You remain engaged but also find yourself wishing that all these many desperate pieces fit together more coherently.\",\"url\":\"https://www.nytimes.com/2024/06/06/movies/banel-adama-review-ramata-toulaye-sy.html\",\"dateCreated\":\"2024-06-11T00:48:44.000Z\",\"author\":{\"@type\":\"Person\",\"url\":\"https://www.rottentomatoes.com/critics/manohla-dargis\",\"name\":\"Manohla Dargis\"},\"reviewRating\":{\"@type\":\"Rating\",\"bestRating\":\"1\",\"worstRating\":\"-1\",\"ratingValue\":1},\"publisher\":{\"@type\":\"Organization\",\"name\":\"New York Times\",\"url\":\"http://www.nytimes.com/library/film/indexfilm.html\"}},{\"@type\":\"Review\",\"reviewBody\":\"The resulting effort is a flawed yet impressive exhibition of the trials that occur when choosing between self-gratification and communal honors&#46;\",\"url\":\"https://nextbestpicture.com/banel-adama/\",\"dateCreated\":\"2024-06-10T23:29:47.000Z\",\"author\":{\"@type\":\"Person\",\"url\":\"https://www.rottentomatoes.com/critics/josh-parham\",\"name\":\"Josh Parham\"},\"reviewRating\":{\"@type\":\"Rating\",\"bestRating\":\"1\",\"worstRating\":\"-1\",\"ratingValue\":1},\"publisher\":{\"@type\":\"Organization\",\"name\":\"Next Best Picture\",\"url\":\"https://www.nextbestpicture.com/\"}},{\"@type\":\"Review\",\"reviewBody\":\"Despite an ambiguous ending&#44; the evocative film resonates with bittersweet compassion as it chronicles Banel&#8217;s quest for empowerment and self-worth&#46;\",\"url\":\"https://cinemalogue.com/2024/06/07/capsule-reviews-for-june-7-3/\",\"dateCreated\":\"2024-06-07T14:20:40.000Z\",\"author\":{\"@type\":\"Person\",\"url\":\"https://www.rottentomatoes.com/critics/todd-jorgenson\",\"name\":\"Todd Jorgenson\"},\"reviewRating\":{\"@type\":\"Rating\",\"bestRating\":\"1\",\"worstRating\":\"-1\",\"ratingValue\":1},\"publisher\":{\"@type\":\"Organization\",\"name\":\"Cinemalogue\",\"url\":\"http://www.cinemalogue.com\"}},{\"@type\":\"Review\",\"reviewBody\":\"The directorial debut of French-Senegalese filmmaker Ramata-Toulaye Sy&#44; this is one of those pictures to which the phrase &#8220;every frame a painting&#8221; might apply&#46; \",\"url\":\"https://www.rogerebert.com/reviews/banel-and-adama-film-review-2024\",\"dateCreated\":\"2024-06-07T13:26:10.000Z\",\"author\":{\"@type\":\"Person\",\"url\":\"https://www.rottentomatoes.com/critics/glenn-kenny\",\"name\":\"Glenn Kenny\"},\"reviewRating\":{\"@type\":\"Rating\",\"bestRating\":\"1\",\"worstRating\":\"-1\",\"ratingValue\":1},\"publisher\":{\"@type\":\"Organization\",\"name\":\"RogerEbert.com\",\"url\":\"http://www.rogerebert.com/\"}},{\"@type\":\"Review\",\"reviewBody\":\"In exploring this relationship&#44; Banel &amp; Adama questions if love and freedom are even possible amidst a stringent belief in tradition&#46;\",\"url\":\"http://www.markreviewsmovies.com/reviews/B/banelandadama.htm\",\"dateCreated\":\"2024-06-07T04:46:49.000Z\",\"author\":{\"@type\":\"Person\",\"url\":\"https://www.rottentomatoes.com/critics/mark-dujsik\",\"name\":\"Mark Dujsik\"},\"reviewRating\":{\"@type\":\"Rating\",\"bestRating\":\"1\",\"worstRating\":\"-1\",\"ratingValue\":1},\"publisher\":{\"@type\":\"Organization\",\"name\":\"Mark Reviews Movies\"}},{\"@type\":\"Review\",\"reviewBody\":\"A capable&#44; often visually striking feature directorial debut from Ramata-Toulaye Sy&#46;\",\"url\":\"https://matthewstclair.substack.com/p/review-banel-and-adama\",\"dateCreated\":\"2024-06-07T00:43:03.000Z\",\"author\":{\"@type\":\"Person\",\"url\":\"https://www.rottentomatoes.com/critics/matthew-st-clair\",\"name\":\"Matthew St. Clair\"},\"reviewRating\":{\"@type\":\"Rating\",\"bestRating\":\"1\",\"worstRating\":\"-1\",\"ratingValue\":1},\"publisher\":{\"@type\":\"Organization\",\"name\":\"Cinematic Words of a Chaotic Gemini (Substack)\"}},{\"@type\":\"Review\",\"reviewBody\":\"An impressive debut for writer-director Ramata-Toulaye Sy&#44; a Paris-born daughter of Senegalese immigrants who spent time in Dakar and was obviously appalled by the nation&#8217;s antiquated adherence to gender roles&#46; \",\"url\":\"https://moviesthruthespectrum.com/2024/06/06/banel-adama-2024/\",\"dateCreated\":\"2024-06-07T00:35:31.000Z\",\"author\":{\"@type\":\"Person\",\"url\":\"https://www.rottentomatoes.com/critics/al-alexander\",\"name\":\"Al Alexander\"},\"reviewRating\":{\"@type\":\"Rating\",\"bestRating\":\"1\",\"worstRating\":\"-1\",\"ratingValue\":1},\"publisher\":{\"@type\":\"Organization\",\"name\":\"Movies Thru the Spectrum\"}},{\"@type\":\"Review\",\"reviewBody\":\"Sy creates an intoxicating&#44; woozy atmosphere that sucks you into this hermetically-sealed community&#44; which remains beguiling even as she doesn&#8217;t explore many themes surrounding her dark relationship drama with enough depth&#46;\",\"url\":\"https://thefilmstage.com/banel-adama-review-ramata-toulaye-sy-crafts-an-intoxicating-bold-directorial-debut/\",\"dateCreated\":\"2024-06-04T12:50:57.000Z\",\"author\":{\"@type\":\"Person\",\"url\":\"https://www.rottentomatoes.com/critics/alistair-ryder\",\"name\":\"Alistair Ryder\"},\"reviewRating\":{\"@type\":\"Rating\",\"bestRating\":\"1\",\"worstRating\":\"-1\",\"ratingValue\":1},\"publisher\":{\"@type\":\"Organization\",\"name\":\"The Film Stage\",\"url\":\"https://thefilmstage.com/reviews/\"}},{\"@type\":\"Review\",\"reviewBody\":\"In the end&#44; Banel &amp; Adama is most memorable when it forgets to push the story forward and wallows in the painterly&#44; or allegorical&#44; registers of its images&#46;\",\"url\":\"https://www.slantmagazine.com/film/banel-and-adama-review-ramata-toulaye-sy/\",\"dateCreated\":\"2024-06-03T22:05:19.000Z\",\"author\":{\"@type\":\"Person\",\"url\":\"https://www.rottentomatoes.com/critics/diego-semerene\",\"name\":\"Diego Semerene\"},\"reviewRating\":{\"@type\":\"Rating\",\"bestRating\":\"1\",\"worstRating\":\"-1\",\"ratingValue\":-1},\"publisher\":{\"@type\":\"Organization\",\"name\":\"Slant Magazine\",\"url\":\"http://slantmagazine.com/\"}},{\"@type\":\"Review\",\"reviewBody\":\"Proves that a languid&#44; dreamy approach doesn&apos;t mean that a narrative lacks power\",\"url\":\"https://theweereview.com/review/banel-adama\",\"dateCreated\":\"2024-06-02T21:56:18.000Z\",\"author\":{\"@type\":\"Person\",\"url\":\"https://www.rottentomatoes.com/critics/kevin-wight\",\"name\":\"Kevin Wight\"},\"reviewRating\":{\"@type\":\"Rating\",\"bestRating\":\"1\",\"worstRating\":\"-1\",\"ratingValue\":1},\"publisher\":{\"@type\":\"Organization\",\"name\":\"The Wee Review\",\"url\":\"http://theweereview.com/\"}},{\"@type\":\"Review\",\"reviewBody\":\"The film richly blends Senegalese traditional structures against this expression of modernity.\",\"url\":\"https://moviemarker.co.uk/glasgow-film-festival-2024-banel-adama-%E2%98%85%E2%98%85%E2%98%85%E2%98%85/\",\"dateCreated\":\"2024-04-23T23:36:47.000Z\",\"author\":{\"@type\":\"Person\",\"url\":\"https://www.rottentomatoes.com/critics/latoya-austin\",\"name\":\"Latoya Austin\"},\"reviewRating\":{\"@type\":\"Rating\",\"bestRating\":\"1\",\"worstRating\":\"-1\",\"ratingValue\":1},\"publisher\":{\"@type\":\"Organization\",\"name\":\"The Wee Review\",\"url\":\"http://theweereview.com/\"}},{\"@type\":\"Review\",\"reviewBody\":\"Love blossoms and withers in a drought-stricken village in Ramata-Toulaye Sy's tragic, Shakespearean romance.\",\"url\":\"https://www.timeout.com/movies/banel-adama-2024\",\"dateCreated\":\"2024-04-23T23:33:05.000Z\",\"author\":{\"@type\":\"Person\",\"url\":\"https://www.rottentomatoes.com/critics/philip-de-semlyen\",\"name\":\"Philip De Semlyen\"},\"reviewRating\":{\"@type\":\"Rating\",\"bestRating\":\"1\",\"worstRating\":\"-1\",\"ratingValue\":1},\"publisher\":{\"@type\":\"Organization\",\"name\":\"Time Out\",\"url\":\"http://www.timeout.com\"}},{\"@type\":\"Review\",\"reviewBody\":\"Despite its flaws&#44; Banel &amp; Adama is an impressive&#44; ambitious debut from Sy&#44; who directs the film with rare clarity and peacefulness&#46;\",\"url\":\"https://filmstories.co.uk/reviews/banel-adama-review-mysterious-thoughtful-debut-from-ramata-toulaye-sy/\",\"dateCreated\":\"2024-04-12T13:32:50.000Z\",\"author\":{\"@type\":\"Person\",\"url\":\"https://www.rottentomatoes.com/critics/maria-lattila\",\"name\":\"Maria Lattila\"},\"reviewRating\":{\"@type\":\"Rating\",\"bestRating\":\"1\",\"worstRating\":\"-1\",\"ratingValue\":1},\"publisher\":{\"@type\":\"Organization\",\"name\":\"Film Stories\",\"url\":\"https://www.filmstories.co.uk/\"}},{\"@type\":\"Review\",\"reviewBody\":\"First-time filmmaker Ramata Toulaye-Sy&#8217;s &#40;co-screenwriter of Seventh Row favourite Our Lady of the Nile&#41; story of star-crossed lovers in a remote village in Senegal is a visually stunning tale of bucking convention and paying the price&#46;\",\"url\":\"https://seventh-row.com/2024/02/28/2024-rendez-vous-with-french-cinema/\",\"dateCreated\":\"2024-03-22T05:51:45.000Z\",\"author\":{\"@type\":\"Person\",\"url\":\"https://www.rottentomatoes.com/critics/alex-heeney\",\"name\":\"Alex Heeney\"},\"reviewRating\":{\"@type\":\"Rating\",\"bestRating\":\"1\",\"worstRating\":\"-1\",\"ratingValue\":1},\"publisher\":{\"@type\":\"Organization\",\"name\":\"Seventh Row\",\"url\":\"https://seventh-row.com/category/film-reviews/\"}},{\"@type\":\"Review\",\"reviewBody\":\"While beautiful, the impression left by Banel & Adama is confusing.\",\"url\":\"https://lwlies.com/reviews/banel-and-adama/\",\"dateCreated\":\"2024-03-11T12:34:21.000Z\",\"author\":{\"@type\":\"Person\",\"url\":\"https://www.rottentomatoes.com/critics/fatima-sheriff\",\"name\":\"Fatima Sheriff\"},\"reviewRating\":{\"@type\":\"Rating\",\"bestRating\":\"1\",\"worstRating\":\"-1\",\"ratingValue\":1},\"publisher\":{\"@type\":\"Organization\",\"name\":\"Little White Lies\",\"url\":\"http://www.littlewhitelies.co.uk\"}},{\"@type\":\"Review\",\"reviewBody\":\"Neither strictly realistic nor overtly supernatural in its narrative approach&#44; Sy&#8217;s film stages a conflict between two incompatible systems of belief&#46; But it&#8217;s unusual in that neither worldview is privileged or validated&#46;\",\"url\":\"https://inreviewonline.com/banel-and-adama\",\"dateCreated\":\"2024-01-31T14:59:33.000Z\",\"author\":{\"@type\":\"Person\",\"url\":\"https://www.rottentomatoes.com/critics/michael-sicinski\",\"name\":\"Michael Sicinski\"},\"reviewRating\":{\"@type\":\"Rating\",\"bestRating\":\"1\",\"worstRating\":\"-1\",\"ratingValue\":1},\"publisher\":{\"@type\":\"Organization\",\"name\":\"In Review Online\",\"url\":\"http://inreviewonline.com/\"}},{\"@type\":\"Review\",\"reviewBody\":\"Mane delivers an unflinching performance as the driven Banel who go to great lengths to fight to have Adama all to herself&#46;&#46;&#46;Unfortunately&#44; the film doesn&#8217;t end as much as drift away&#44; which is frustrating because its heroine deserved a solid third act&#46;\",\"url\":\"https://www.awardsdaily.com/2023/12/01/analysis-of-88-2024-international-feature-oscar-submissions/\",\"dateCreated\":\"2023-12-02T17:02:33.000Z\",\"author\":{\"@type\":\"Person\",\"url\":\"https://www.rottentomatoes.com/critics/frank-j-avella\",\"name\":\"Frank J. Avella\"},\"reviewRating\":{\"@type\":\"Rating\",\"bestRating\":\"1\",\"worstRating\":\"-1\",\"ratingValue\":1},\"publisher\":{\"@type\":\"Organization\",\"name\":\"Awards Daily\",\"url\":\"https://www.awardsdaily.com/\"}}],\"url\":\"https://www.rottentomatoes.com/m/banel_and_adama\",\"video\":{\"@type\":\"VideoObject\",\"thumbnailUrl\":\"https://statcdn.fandango.com/MPX/image/NBCU_Fandango/10/475/thumb_C8A86AC5-EE8E-4593-8C13-D27A1E56F567.jpg\",\"name\":\"Banel et Adama: Trailer 1\",\"duration\":\"1:36\",\"sourceOrganization\":\"MPX\",\"uploadDate\":\"2024-05-10T17:36:45\",\"description\":\"\",\"contentUrl\":\"https://www.rottentomatoes.com/m/banel_and_adama/videos/5w7ip38a1Xnd\"}}</script>\n",
       "<link href=\"https://www.rottentomatoes.com/assets/pizza-pie/manifest/manifest.json\" rel=\"manifest\"/>\n",
       "<link href=\"https://www.rottentomatoes.com/assets/pizza-pie/head-assets/images/apple-touch-icon-60.jpg\" rel=\"apple-touch-icon\"/>\n",
       "<link href=\"https://www.rottentomatoes.com/assets/pizza-pie/head-assets/images/apple-touch-icon-152.jpg\" rel=\"apple-touch-icon\" sizes=\"152x152\"/>\n",
       "<link href=\"https://www.rottentomatoes.com/assets/pizza-pie/head-assets/images/apple-touch-icon-167.jpg\" rel=\"apple-touch-icon\" sizes=\"167x167\"/>\n",
       "<link href=\"https://www.rottentomatoes.com/assets/pizza-pie/head-assets/images/apple-touch-icon-180.jpg\" rel=\"apple-touch-icon\" sizes=\"180x180\"/>\n",
       "<meta content=\"VPPXtECgUUeuATBacnqnCm4ydGO99reF-xgNklSbNbc\" name=\"google-site-verification\"/>\n",
       "<meta content=\"034F16304017CA7DCF45D43850915323\" name=\"msvalidate.01\"/>\n",
       "<meta content=\"#FA320A\" name=\"theme-color\"/>\n",
       "<!-- DNS prefetch -->\n",
       "<meta content=\"on\" http-equiv=\"x-dns-prefetch-control\"/>\n",
       "<link href=\"//www.rottentomatoes.com\" rel=\"dns-prefetch\"/>\n",
       "<link href=\"//www.rottentomatoes.com\" rel=\"preconnect\"/>\n",
       "<!-- BEGIN: critical-->\n",
       "<style id=\"critical-path\">*,:after,:before{-webkit-box-sizing:border-box;-moz-box-sizing:border-box;box-sizing:border-box}a,body,button,div,footer,html,img,li,p,section,span,sup,ul{margin:0;padding:0;border:0;font-size:100%;font:inherit;vertical-align:baseline}footer,section{display:block}body{line-height:1}li,ul{list-style:none}a{text-decoration:none}img{vertical-align:middle}button{background-color:transparent}:root{--fontFranklinGothic:\"Franklin Gothic\",-apple-system,BlinkMacSystemFont,\"PT Sans\",Arial,Sans-Serif;--fontNeusa:\"Neusa\",\"Impact\",\"Helvetica Neue\",Arial,Sans-Serif;--fontMonospace:\"Courier New\",Courier,monospace;--fontRtIcon:\"rt-icon\"}:root{--red:#FA320A;--redRGB:250,50,10;--redDark1:#A33E2A;--blue:#3976DC;--blueHover:#2A62C0;--gray:#757A84;--grayLight1:#F3F3F3;--grayLight2:#E9E9EA;--grayLight3:#DCDCE6;--grayLight4:#BCBDBE;--grayDark1:#505257;--grayDark2:#2A2C32;--grayDark3:#171C20;--orange:#FF7300;--yellow:#FFB600;--white:#FFFFFF;--black:#000000;--blackRGB:0,0,0;--yellowLegacy:#FFE400;--blueLightLegacy:#EBF3FE}:root{--borderRadius:6px}.sr-only{position:absolute;width:1px;height:1px;margin:-1px;padding:0;overflow:hidden;clip:rect(0,0,0,0);border:0}.skip-link{clip:rect(1px,1px,1px,1px);height:1px;overflow:hidden;position:absolute;white-space:nowrap;width:1px}.leaderboard_wrapper{height:50px;display:flex;justify-content:center;width:100%}@media (min-width:768px){.leaderboard_wrapper{padding:5px 0 5px;height:100px;min-height:100px}.sleaderboard_wrapper{display:flex;justify-content:center;align-items:center;background-color:var(--white);padding:10px;text-align:center}}html{--webkitFontSmoothing:antialiased;--mozOsxFontSmoothing:grayscale;font-size:1rem}body{background-color:var(--grayLight1);color:var(--grayDark2);font-family:var(--fontFranklinGothic);font-size:1rem;line-height:1.5;letter-spacing:.016em}p{font-family:var(--fontFranklinGothic);font-size:1rem;font-weight:400;line-height:1.25;margin-bottom:1.25rem}section{margin-bottom:2.5rem}.button,button{display:inline-block;height:40px;font-family:var(--fontFranklinGothic);font-size:.875rem;font-weight:500;line-height:2.85;padding:0 16px;text-align:center;text-overflow:ellipsis;text-transform:uppercase;vertical-align:middle;-webkit-line-clamp:2;white-space:nowrap;word-wrap:break-word;border:1px transparent;border-radius:4px;background-color:var(--blue);color:var(--white)}.button--link{height:auto;background-color:transparent;color:var(--blue);font-size:1rem;line-height:inherit;padding:0}button.transparent{width:inherit;height:inherit;padding:0;background:0 0}.hide{display:none!important}.h3{font-family:var(--fontFranklinGothic);font-weight:500;font-size:1.25rem;line-height:1.2;letter-spacing:0;margin-bottom:1.25rem}.h4{font-family:var(--fontFranklinGothic);font-weight:600;line-height:1.17;letter-spacing:.01em}.h4{font-size:1.125rem;margin-bottom:1rem}img{max-width:100%}a{background-color:transparent;color:var(--blue);fill:var(--grayDark2);font-family:var(--fontFranklinGothic);font-size:inherit;font-weight:400;line-height:inherit;letter-spacing:inherit;text-decoration:none}sup{vertical-align:super;font-size:.6rem}ul{padding:5px 0}ul ul{margin-top:0;margin-left:12px}li{margin-bottom:.4em;text-align:-webkit-match-parent}.list-inline{list-style:none}.list-inline>li{display:inline-block}.list-inline--separator>li{display:inline-block}.list-inline--separator>li:after{content:\"|\";display:inline-block;color:var(--grayDark1);margin-left:10px;margin-right:10px}.list-inline--separator>li:last-child:after{content:none}#main_container{position:relative}.rt-layout__body{line-height:1.25}.rt-layout__content{background-color:var(--white);padding-left:15px;padding-right:15px;padding-bottom:24px;overflow-x:hidden}.container{margin-right:auto;margin-left:auto}@media (min-width:768px){.container{overflow-x:unset;width:1100px;padding-left:15px;padding-right:15px}.rt-layout__body{padding:0}}[skeleton]{display:block;background-color:#eee;color:transparent}[skeleton] *{visibility:hidden}[skeleton=panel]{border-radius:4px}.unset{font-size:unset;font-family:unset;font-weight:unset;line-height:unset;margin:unset;padding:unset;color:inherit;letter-spacing:unset;text-transform:unset}rt-header{height:55px}rt-header[skeleton]{display:block;background-color:var(--red)}rt-header a{color:var(--grayDark2)}rt-header a[slot=logo] img{height:35px}rt-header li ul,rt-header ul{margin:0;padding:0}rt-header ul[slot=nav-links] a,rt-header ul[slot=nav-links] button{margin:0 15px;color:var(--white);font-family:var(--fontFranklinGothic);font-size:.875rem;font-weight:500;line-height:inherit}rt-header ul[slot=nav-links] li{margin-bottom:.4em}rt-header ul[slot=nav-links] .masthead-user-link{display:flex;align-items:center;color:var(--white);font-size:inherit;font-weight:500;margin-left:10px}rt-header ul[slot=nav-links] .masthead-user-link img{height:14px;margin-right:5px;vertical-align:text-bottom}rt-header ul[slot=nav-links] .masthead-user-link p{margin-bottom:0}rt-header ul[slot=nav-links] .masthead-user-link rt-icon{fill:var(--white)}rt-header ul[slot=nav-links] rt-header-user-info{position:absolute;top:30px;left:auto;right:0;z-index:103}rt-header ul[slot=nav-links] rt-header-user-info a{position:relative;margin:0;color:var(--grayDark2);font-size:1rem;font-weight:400;z-index:2}rt-header ul[slot=nav-links] rt-header-user-info .username{font-size:1rem;font-weight:500px;color:var(--grayDark2)}rt-header ul[slot=nav-links] rt-header-user-info .dropdown-link{color:var(--grayDark2);margin-bottom:.4em}rt-header ul[slot=nav-links] rt-header-user-info .rating-count-block,rt-header ul[slot=nav-links] rt-header-user-info .wts-count-block{font-size:.875rem;font-weight:400px;color:var(--gray)}rt-header ul[slot=nav-links] rt-header-user-info .wts-count-block rt-icon[icon=plus]{fill:var(--blue)}rt-header ul[slot=nav-links] rt-header-user-info .rating-count-block rt-icon[icon=star]{fill:var(--yellow)}rt-header rt-header-nav-item{padding:13px 15px;color:var(--white)}rt-header rt-header-nav-item>a[slot=link]{color:var(--white);font-family:var(--fontNeusa);letter-spacing:.9px;text-transform:uppercase;position:relative}rt-header rt-header-nav-item temporary-display{position:absolute;top:-20px;right:-15px}rt-header rt-header-nav-item temporary-display rt-badge{font-size:.75rem}rt-header rt-header-nav-item-dropdown[aria-expanded=false]{display:none}rt-header rt-header-nav-item-dropdown-list:last-child{margin-right:0}rt-header rt-header-nav-item-dropdown-list{margin-right:15px}rt-header rt-header-nav-item-dropdown-list ul{margin-bottom:15px}rt-header rt-header-nav-item-dropdown-list li{margin-bottom:.4em}rt-header rt-header-nav-item-dropdown-list a{display:flex;width:100%}rt-header rt-header-nav-item-dropdown-list a span{white-space:nowrap;overflow:hidden;text-overflow:ellipsis;width:215px}rt-header rt-header-nav-item-dropdown-list a.what-to-watch{align-items:center;gap:3px}rt-header rt-header-nav-item-dropdown-list p{display:flex}@media (min-width:768px){rt-header{height:100px}rt-header a[slot=logo]{margin:15px}rt-header a[slot=logo] img{height:50px}}bottom-nav{position:fixed;bottom:0;left:0;width:100%;height:84px;z-index:100}@media (min-width:768px){bottom-nav{display:none}}.trending-bar{background-color:rgba(var(--blackRGB),.6);color:var(--white);display:none;padding:4px 10px;font-size:.875rem;z-index:1;opacity:.9;position:relative;height:26px;margin-bottom:0}.trending-bar a{color:var(--white)}.trending-bar__header{color:var(--yellowLegacy);margin-bottom:0;padding-right:5px;white-space:nowrap;font-size:1rem;font-family:var(--fontNeusa);line-height:18px;letter-spacing:.055em;text-transform:uppercase}.trending-bar__list{display:flex;align-items:center;padding:0}.trending-bar__list li{margin-bottom:0}.trending-bar__link{margin-right:2px;padding:0 5px;font-weight:400;line-height:18px}.trending-list-wrap{display:flex;flex-wrap:nowrap;justify-content:space-between;align-items:flex-start}@media (min-width:768px){.trending-bar{display:block}}#trending_bar_ad{position:absolute;top:0;right:0}.auth-overlay__icon-button{display:flex;border:none;background:0 0;height:26px;font-size:1.625rem;padding:0;z-index:1}.auth-overlay__icon-button rt-icon{fill:var(--grayLight4)}.auth-overlay__icon-button--close{position:absolute;right:20px}.footer{background-color:var(--grayDark2);font-family:var(--fontFranklinGothic);font-size:.875rem;display:block;color:var(--white)}.footer__content-desktop-block{display:none}.footer__content-mobile-block{display:block;color:var(--white);font-size:.875rem;padding:15px 15px 69px;text-align:center;font-family:var(--fontFranklinGothic)}.footer__content-mobile-block a{font-size:.875rem}.footer__content-group-title{line-height:1.875rem}.footer__links-list{padding:0;margin-left:-5px;margin-bottom:30px}.footer__links-list-item{margin-bottom:0;padding:2px 5px;font-size:1rem}.footer__links-list-item a{color:var(--white);fill:var(--white);line-height:1.375rem}.footer__links-list-item a#ot-sdk-btn.ot-sdk-show-settings{color:var(--white);border:initial;height:initial;white-space:initial;padding:2px 5px;font-size:1rem;line-height:initial;background-color:initial}.footer__links-list-item a#ot-sdk-btn.ot-sdk-show-settings.mobile{font-size:.875rem}.footer__ccpa-icon{display:inline-block;width:30px;margin:0 0 2px 0}.footer__newsletter-block{display:block;margin:auto;width:100%}.footer__newsletter-btn{display:flex;justify-content:center;align-items:center;width:175px;margin:10px auto;font-weight:500;color:var(--white)}.footer__copyright{display:none}.footer__copyright .footer__links-list{font-size:.75rem}.footer__copyright-legal{margin-bottom:0;font-size:1rem}.footer__copyright .footer__links-list{font-size:.75rem}@media (min-width:768px){.footer__content-desktop-block{display:flex;justify-content:space-between}.footer__content-mobile-block{display:none}.footer__content-group{padding:20px 0}.footer__content-group-title{margin-bottom:10px;font-size:1.125rem;text-transform:uppercase}.footer__newsletter-block{display:block;margin:0;text-align:center;width:250px}.footer__newsletter-copy{margin:10px 0;line-height:1.09rem}.footer__copyright{display:flex;flex-direction:column;align-items:center;padding-top:10px;padding-bottom:10px}.footer__copyright-legal{color:var(--gray);font-size:.875rem}}#movie-overview #main-wrap{position:relative}#movie-overview #main-wrap #modules-wrap{width:100%;height:auto;position:relative;z-index:1;margin-top:-12px}#movie-overview #main-wrap #sidebar-wrap{display:none}@media (min-width:768px){#movie-overview #main-wrap{margin-top:0;display:flex}#movie-overview #main-wrap #modules-wrap,#movie-overview #main-wrap #sidebar-wrap{height:auto}#movie-overview #main-wrap #modules-wrap{display:inline-block;width:728px;margin:0 40px 0 16px}#movie-overview #main-wrap #sidebar-wrap{display:inline-block;width:300px;padding:16px 0}}:root{scroll-behavior:smooth}#movie-overview{width:auto;height:100%;margin:0 -15px}.rt-layout__content{overflow-x:unset}discovery-sidebar{margin-bottom:16px}discovery-sidebar[skeleton]{min-height:500px}#hero-wrap{position:relative;top:0;z-index:0}@media (min-width:768px){#hero-wrap{margin-bottom:16px;z-index:2}}overlay-base[data-photoscarouselmanager]{background-color:var(--white)}overlay-base[data-photoscarouselmanager] photos-carousel-overlay{display:flex;justify-content:center;align-items:center;width:100vw;height:100vh}video-player-overlay button.transparent{margin:15px}video-player-overlay rt-icon[icon=close]{fill:var(--white)}video-player-overlay .cta-btn.header-cta{display:none;margin:16px}video-player-overlay .cta-btn.footer-cta{width:calc(100% - 68px);text-align:center}@media (min-width:768px){video-player-overlay rt-icon[icon=close]{display:none;visibility:hidden}video-player-overlay .cta-btn.header-cta{display:inline-block}}</style>\n",
       "<!-- /END: critical-->\n",
       "<!-- @todo TOMATO-10097 - clean up redesignGlobalStyles-->\n",
       "<link as=\"style\" href=\"/assets/pizza-pie/stylesheets/bundles/layouts/default_DEPRECATED.3f97e8b13a5.css\" onload=\"this.onload=null;this.rel='stylesheet'\" rel=\"preload\"/>\n",
       "<link as=\"style\" href=\"/assets/pizza-pie/stylesheets/bundles/pages/movie.16f2c09b966.css\" onload=\"this.onload=null;this.rel='stylesheet'\" rel=\"preload\"/>\n",
       "<script>\n",
       "        !function(t){\"use strict\";t.loadCSS||(t.loadCSS=function(){});var e=loadCSS.relpreload={};if(e.support=function(){var e;try{e=t.document.createElement(\"link\").relList.supports(\"preload\")}catch(t){e=!1}return function(){return e}}(),e.bindMediaToggle=function(t){var e=t.media||\"all\";function a(){t.media=e}t.addEventListener?t.addEventListener(\"load\",a):t.attachEvent&&t.attachEvent(\"onload\",a),setTimeout(function(){t.rel=\"stylesheet\",t.media=\"only x\"}),setTimeout(a,3e3)},e.poly=function(){if(!e.support())for(var a=t.document.getElementsByTagName(\"link\"),n=0;n<a.length;n++){var o=a[n];\"preload\"!==o.rel||\"style\"!==o.getAttribute(\"as\")||o.getAttribute(\"data-loadcss\")||(o.setAttribute(\"data-loadcss\",!0),e.bindMediaToggle(o))}},!e.support()){e.poly();var a=t.setInterval(e.poly,500);t.addEventListener?t.addEventListener(\"load\",function(){e.poly(),t.clearInterval(a)}):t.attachEvent&&t.attachEvent(\"onload\",function(){e.poly(),t.clearInterval(a)})}\"undefined\"!=typeof exports?exports.loadCSS=loadCSS:t.loadCSS=loadCSS}(\"undefined\"!=typeof global?global:this);\n",
       "        </script>\n",
       "<script>\n",
       "            window.RottenTomatoes = {};\n",
       "            window.RTLocals = {};\n",
       "            window.nunjucksPrecompiled = {};\n",
       "            window.__RT__ = {};\n",
       "        </script>\n",
       "<script src=\"https://cdn.jwplayer.com/libraries/U8MHzHHR.js\"></script>\n",
       "<script src=\"https://sb.scorecardresearch.com/c2/plugins/streamingtag_plugin_jwplayer.js\"></script>\n",
       "</meta></meta>"
      ]
     },
     "execution_count": 14,
     "metadata": {},
     "output_type": "execute_result"
    }
   ],
   "source": [
    "mysoup.find('meta', attrs = {'name':'description'})"
   ]
  },
  {
   "cell_type": "code",
   "execution_count": 15,
   "metadata": {},
   "outputs": [
    {
     "ename": "AttributeError",
     "evalue": "'NoneType' object has no attribute 'text'",
     "output_type": "error",
     "traceback": [
      "\u001b[0;31m---------------------------------------------------------------------------\u001b[0m",
      "\u001b[0;31mAttributeError\u001b[0m                            Traceback (most recent call last)",
      "Cell \u001b[0;32mIn[15], line 1\u001b[0m\n\u001b[0;32m----> 1\u001b[0m moviedata[\u001b[38;5;124m'\u001b[39m\u001b[38;5;124mcritic_score\u001b[39m\u001b[38;5;124m'\u001b[39m] \u001b[38;5;241m=\u001b[39m \u001b[43mmysoup\u001b[49m\u001b[38;5;241;43m.\u001b[39;49m\u001b[43mfind\u001b[49m\u001b[43m(\u001b[49m\u001b[38;5;124;43m'\u001b[39;49m\u001b[38;5;124;43mrt-button\u001b[39;49m\u001b[38;5;124;43m'\u001b[39;49m\u001b[43m,\u001b[49m\u001b[43m \u001b[49m\u001b[43mslot\u001b[49m\u001b[43m \u001b[49m\u001b[38;5;241;43m=\u001b[39;49m\u001b[43m \u001b[49m\u001b[38;5;124;43m\"\u001b[39;49m\u001b[38;5;124;43mcriticScore\u001b[39;49m\u001b[38;5;124;43m\"\u001b[39;49m\u001b[43m)\u001b[49m\u001b[38;5;241;43m.\u001b[39;49m\u001b[43mtext\u001b[49m\u001b[38;5;241m.\u001b[39mstrip()\n\u001b[1;32m      2\u001b[0m moviedata[\u001b[38;5;124m'\u001b[39m\u001b[38;5;124maudience_score\u001b[39m\u001b[38;5;124m'\u001b[39m] \u001b[38;5;241m=\u001b[39m mysoup\u001b[38;5;241m.\u001b[39mfind(\u001b[38;5;124m'\u001b[39m\u001b[38;5;124mrt-button\u001b[39m\u001b[38;5;124m'\u001b[39m, slot \u001b[38;5;241m=\u001b[39m \u001b[38;5;124m\"\u001b[39m\u001b[38;5;124maudienceScore\u001b[39m\u001b[38;5;124m\"\u001b[39m)\u001b[38;5;241m.\u001b[39mtext\u001b[38;5;241m.\u001b[39mstrip()\n",
      "\u001b[0;31mAttributeError\u001b[0m: 'NoneType' object has no attribute 'text'"
     ]
    }
   ],
   "source": [
    "moviedata['critic_score'] = mysoup.find('rt-button', slot = \"criticScore\").text.strip()\n",
    "moviedata['audience_score'] = mysoup.find('rt-button', slot = \"audienceScore\").text.strip()"
   ]
  },
  {
   "cell_type": "code",
   "execution_count": null,
   "metadata": {},
   "outputs": [],
   "source": [
    "moviedata['description'] = mysoup.find('meta', attrs = {'name':'description'})['content']"
   ]
  },
  {
   "cell_type": "code",
   "execution_count": null,
   "metadata": {},
   "outputs": [
    {
     "data": {
      "text/plain": [
       "\"Will Smith and Martin Lawrence remain good company even when Bad Boys strains to up the ante, proving there's still life left in this high-octane franchise.\""
      ]
     },
     "execution_count": 40,
     "metadata": {},
     "output_type": "execute_result"
    }
   ],
   "source": [
    "moviedata['critic_consensus'] = mysoup.find('div', 'consensus').p.text"
   ]
  },
  {
   "cell_type": "markdown",
   "metadata": {},
   "source": [
    "# Goal 4"
   ]
  },
  {
   "cell_type": "code",
   "execution_count": null,
   "metadata": {},
   "outputs": [
    {
     "ename": "SyntaxError",
     "evalue": "expected ':' (2386028803.py, line 12)",
     "output_type": "error",
     "traceback": [
      "\u001b[0;36m  Cell \u001b[0;32mIn[43], line 12\u001b[0;36m\u001b[0m\n\u001b[0;31m    try moviedata['critic_consensus'] = mysoup.find('div', 'consensus').p.text\u001b[0m\n\u001b[0m        ^\u001b[0m\n\u001b[0;31mSyntaxError\u001b[0m\u001b[0;31m:\u001b[0m expected ':'\n"
     ]
    }
   ],
   "source": [
    "def moviescrape(url):\n",
    "    r = requests.get(url, headers = headers)\n",
    "    mysoup = BeautifulSoup(r.text, 'html.parser')\n",
    "    \n",
    "    moviedata = {}\n",
    "    \n",
    "    moviedata['title'] = mysoup.find('title').text. replace(' | Rotten Tomatoes', '')\n",
    "    moviedata['description'] = mysoup.find('meta', attrs = {'name':'description'})['content']\n",
    "    moviedata['critic_score'] = mysoup.find('rt-button', slot = \"criticsScore\").text.strip()\n",
    "    moviedata['audience_score'] = mysoup.find('rt-button', slot = \"audienceScore\").text.strip()\n",
    "    \n",
    "    try:\n",
    "        moviedata['critic_consensus'] = mysoup.find('div', 'consensus').p.text\n",
    "    except:\n",
    "        moviedata['critic_consensus'] = ''\n",
    "    \n",
    "    cat = mysoup.find_all('div', \"category-wrap\")\n",
    "    cats = [x.text.strip().split('\\n\\n\\n') for x in cat]\n",
    "    for c in cats:\n",
    "        moviedata[c[0]] = c[1].replace('\\n', '')\n",
    "        \n",
    "    return moviedata\n",
    "    \n",
    "    cats = {x[0]:x[1] for x in cats}\n",
    "    "
   ]
  },
  {
   "cell_type": "code",
   "execution_count": null,
   "metadata": {},
   "outputs": [
    {
     "ename": "NameError",
     "evalue": "name 'moviescrape' is not defined",
     "output_type": "error",
     "traceback": [
      "\u001b[0;31m---------------------------------------------------------------------------\u001b[0m",
      "\u001b[0;31mNameError\u001b[0m                                 Traceback (most recent call last)",
      "Cell \u001b[0;32mIn[42], line 1\u001b[0m\n\u001b[0;32m----> 1\u001b[0m rt_data \u001b[38;5;241m=\u001b[39m \u001b[43m[\u001b[49m\u001b[43mmoviescrape\u001b[49m\u001b[43m(\u001b[49m\u001b[43mx\u001b[49m\u001b[43m)\u001b[49m\u001b[43m \u001b[49m\u001b[38;5;28;43;01mfor\u001b[39;49;00m\u001b[43m \u001b[49m\u001b[43mx\u001b[49m\u001b[43m \u001b[49m\u001b[38;5;129;43;01min\u001b[39;49;00m\u001b[43m \u001b[49m\u001b[43mmovielinks\u001b[49m\u001b[43m]\u001b[49m\n",
      "Cell \u001b[0;32mIn[42], line 1\u001b[0m, in \u001b[0;36m<listcomp>\u001b[0;34m(.0)\u001b[0m\n\u001b[0;32m----> 1\u001b[0m rt_data \u001b[38;5;241m=\u001b[39m [\u001b[43mmoviescrape\u001b[49m(x) \u001b[38;5;28;01mfor\u001b[39;00m x \u001b[38;5;129;01min\u001b[39;00m movielinks]\n",
      "\u001b[0;31mNameError\u001b[0m: name 'moviescrape' is not defined"
     ]
    }
   ],
   "source": [
    "rt_data = [moviescrape(x) for x in movielinks]"
   ]
  },
  {
   "cell_type": "code",
   "execution_count": null,
   "metadata": {},
   "outputs": [
    {
     "ename": "NameError",
     "evalue": "name 'rt_data' is not defined",
     "output_type": "error",
     "traceback": [
      "\u001b[0;31m---------------------------------------------------------------------------\u001b[0m",
      "\u001b[0;31mNameError\u001b[0m                                 Traceback (most recent call last)",
      "Cell \u001b[0;32mIn[44], line 1\u001b[0m\n\u001b[0;32m----> 1\u001b[0m rt_dataframe \u001b[38;5;241m=\u001b[39m pd\u001b[38;5;241m.\u001b[39mDataFrame\u001b[38;5;241m.\u001b[39mfrom_records(\u001b[43mrt_data\u001b[49m)\n",
      "\u001b[0;31mNameError\u001b[0m: name 'rt_data' is not defined"
     ]
    }
   ],
   "source": [
    "rt_dataframe = pd.DataFrame.from_records(rt_data)"
   ]
  },
  {
   "cell_type": "code",
   "execution_count": null,
   "metadata": {},
   "outputs": [],
   "source": []
  }
 ],
 "metadata": {
  "kernelspec": {
   "display_name": "Python 3",
   "language": "python",
   "name": "python3"
  },
  "language_info": {
   "codemirror_mode": {
    "name": "ipython",
    "version": 3
   },
   "file_extension": ".py",
   "mimetype": "text/x-python",
   "name": "python",
   "nbconvert_exporter": "python",
   "pygments_lexer": "ipython3",
   "version": "3.11.9"
  }
 },
 "nbformat": 4,
 "nbformat_minor": 2
}
